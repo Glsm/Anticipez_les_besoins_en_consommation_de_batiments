{
 "cells": [
  {
   "cell_type": "code",
   "execution_count": 1,
   "id": "a39c237b",
   "metadata": {},
   "outputs": [],
   "source": [
    "import numpy as np \n",
    "import pandas as pd \n",
    "import matplotlib.pyplot as plt\n",
    "import seaborn as sns\n",
    "from scipy import stats\n",
    "import warnings\n",
    "warnings.filterwarnings('ignore')\n",
    "import timeit\n",
    "from sklearn import decomposition\n",
    "from sklearn import preprocessing"
   ]
  },
  {
   "cell_type": "code",
   "execution_count": 2,
   "id": "f6e848e7",
   "metadata": {},
   "outputs": [],
   "source": [
    "path_to_file = r'/Users/gulsumkapanoglu/Desktop/P4/'"
   ]
  },
  {
   "cell_type": "code",
   "execution_count": 3,
   "id": "a6b22946",
   "metadata": {},
   "outputs": [],
   "source": [
    "energy = pd.read_csv(path_to_file + 'energy-cleaned.csv')"
   ]
  },
  {
   "cell_type": "code",
   "execution_count": 4,
   "id": "3e76865b",
   "metadata": {},
   "outputs": [
    {
     "name": "stdout",
     "output_type": "stream",
     "text": [
      "<class 'pandas.core.frame.DataFrame'>\n",
      "RangeIndex: 1085 entries, 0 to 1084\n",
      "Data columns (total 30 columns):\n",
      " #   Column                         Non-Null Count  Dtype  \n",
      "---  ------                         --------------  -----  \n",
      " 0   OSEBuildingID                  1085 non-null   int64  \n",
      " 1   DataYear                       1085 non-null   int64  \n",
      " 2   BuildingType                   1085 non-null   object \n",
      " 3   PrimaryPropertyType            1085 non-null   object \n",
      " 4   ZipCode                        1079 non-null   float64\n",
      " 5   TaxParcelIdentificationNumber  1085 non-null   object \n",
      " 6   CouncilDistrictCode            1085 non-null   int64  \n",
      " 7   Neighborhood                   1085 non-null   object \n",
      " 8   NumberofBuildings              1085 non-null   float64\n",
      " 9   NumberofFloors                 1085 non-null   int64  \n",
      " 10  PropertyGFATotal               1085 non-null   int64  \n",
      " 11  ListOfAllPropertyUseTypes      1085 non-null   object \n",
      " 12  LargestPropertyUseType         1085 non-null   object \n",
      " 13  ENERGYSTARScore                721 non-null    float64\n",
      " 14  SiteEUIWN(kBtu/sf)             1085 non-null   float64\n",
      " 15  SourceEUIWN(kBtu/sf)           1085 non-null   float64\n",
      " 16  SiteEnergyUseWN(kBtu)          1085 non-null   float64\n",
      " 17  Electricity(kWh)               1085 non-null   float64\n",
      " 18  ComplianceStatus               1085 non-null   object \n",
      " 19  TotalGHGEmissions              1085 non-null   float64\n",
      " 20  GHGEmissionsIntensity          1085 non-null   float64\n",
      " 21  Âgebâtiment                    1085 non-null   int64  \n",
      " 22  out_clas                       1085 non-null   object \n",
      " 23  consumption_rate_Electricity   1085 non-null   object \n",
      " 24  consumption_rate_Gas           1085 non-null   object \n",
      " 25  consumption_rate_Steam         1085 non-null   object \n",
      " 26  GFABuildingRate                1085 non-null   float64\n",
      " 27  GFAParkingRate                 1085 non-null   float64\n",
      " 28  GFAPerBuilding                 1085 non-null   float64\n",
      " 29  GFAPerFloor                    1085 non-null   float64\n",
      "dtypes: float64(13), int64(6), object(11)\n",
      "memory usage: 254.4+ KB\n"
     ]
    }
   ],
   "source": [
    "energy.info()"
   ]
  },
  {
   "cell_type": "code",
   "execution_count": 5,
   "id": "3a7af021",
   "metadata": {},
   "outputs": [],
   "source": [
    "def reg_met(y_test, y_pred):\n",
    "    mae = mean_absolute_error(y_test, y_pred)\n",
    "    mse = mean_squared_error(y_test, y_pred)\n",
    "    rmse = np.sqrt(mse)\n",
    "    mape = mean_absolute_percentage_error(y_test, y_pred)\n",
    "    r_score = r2_score(y_test, y_pred, multioutput=\"variance_weighted\")\n",
    "    print(\"MAE: \",mae.round(5))\n",
    "    print(\"MSE: \", mse.round(5))\n",
    "    print(\"RMSE: \", rmse)\n",
    "    print(\"MAPE: \", mape.round(5))\n",
    "    print(\"R²: \", r_score.round(5))"
   ]
  },
  {
   "cell_type": "code",
   "execution_count": 6,
   "id": "5172de72",
   "metadata": {},
   "outputs": [
    {
     "data": {
      "text/html": [
       "<div>\n",
       "<style scoped>\n",
       "    .dataframe tbody tr th:only-of-type {\n",
       "        vertical-align: middle;\n",
       "    }\n",
       "\n",
       "    .dataframe tbody tr th {\n",
       "        vertical-align: top;\n",
       "    }\n",
       "\n",
       "    .dataframe thead th {\n",
       "        text-align: right;\n",
       "    }\n",
       "</style>\n",
       "<table border=\"1\" class=\"dataframe\">\n",
       "  <thead>\n",
       "    <tr style=\"text-align: right;\">\n",
       "      <th></th>\n",
       "      <th>OSEBuildingID</th>\n",
       "      <th>DataYear</th>\n",
       "      <th>BuildingType</th>\n",
       "      <th>PrimaryPropertyType</th>\n",
       "      <th>ZipCode</th>\n",
       "      <th>TaxParcelIdentificationNumber</th>\n",
       "      <th>CouncilDistrictCode</th>\n",
       "      <th>Neighborhood</th>\n",
       "      <th>NumberofBuildings</th>\n",
       "      <th>NumberofFloors</th>\n",
       "      <th>...</th>\n",
       "      <th>GHGEmissionsIntensity</th>\n",
       "      <th>Âgebâtiment</th>\n",
       "      <th>out_clas</th>\n",
       "      <th>consumption_rate_Electricity</th>\n",
       "      <th>consumption_rate_Gas</th>\n",
       "      <th>consumption_rate_Steam</th>\n",
       "      <th>GFABuildingRate</th>\n",
       "      <th>GFAParkingRate</th>\n",
       "      <th>GFAPerBuilding</th>\n",
       "      <th>GFAPerFloor</th>\n",
       "    </tr>\n",
       "  </thead>\n",
       "  <tbody>\n",
       "    <tr>\n",
       "      <th>57</th>\n",
       "      <td>89</td>\n",
       "      <td>2016</td>\n",
       "      <td>NonResidential</td>\n",
       "      <td>Medical Office</td>\n",
       "      <td>98122.0</td>\n",
       "      <td>1978201270</td>\n",
       "      <td>3</td>\n",
       "      <td>EAST</td>\n",
       "      <td>0.0</td>\n",
       "      <td>3</td>\n",
       "      <td>...</td>\n",
       "      <td>2.41</td>\n",
       "      <td>51</td>\n",
       "      <td>Low</td>\n",
       "      <td>High Usage</td>\n",
       "      <td>High Usage</td>\n",
       "      <td>Low Usage</td>\n",
       "      <td>1.00000</td>\n",
       "      <td>0.00000</td>\n",
       "      <td>inf</td>\n",
       "      <td>59671.333</td>\n",
       "    </tr>\n",
       "    <tr>\n",
       "      <th>144</th>\n",
       "      <td>267</td>\n",
       "      <td>2016</td>\n",
       "      <td>NonResidential</td>\n",
       "      <td>Hotel</td>\n",
       "      <td>98101.0</td>\n",
       "      <td>6792120000</td>\n",
       "      <td>7</td>\n",
       "      <td>DOWNTOWN</td>\n",
       "      <td>1.0</td>\n",
       "      <td>0</td>\n",
       "      <td>...</td>\n",
       "      <td>1.75</td>\n",
       "      <td>17</td>\n",
       "      <td>Low</td>\n",
       "      <td>High Usage</td>\n",
       "      <td>High Usage</td>\n",
       "      <td>Low Usage</td>\n",
       "      <td>1.00000</td>\n",
       "      <td>0.00000</td>\n",
       "      <td>934292.0</td>\n",
       "      <td>inf</td>\n",
       "    </tr>\n",
       "    <tr>\n",
       "      <th>172</th>\n",
       "      <td>322</td>\n",
       "      <td>2016</td>\n",
       "      <td>NonResidential</td>\n",
       "      <td>Large Office</td>\n",
       "      <td>98121.0</td>\n",
       "      <td>0656000005</td>\n",
       "      <td>7</td>\n",
       "      <td>DOWNTOWN</td>\n",
       "      <td>0.0</td>\n",
       "      <td>3</td>\n",
       "      <td>...</td>\n",
       "      <td>0.68</td>\n",
       "      <td>48</td>\n",
       "      <td>Low</td>\n",
       "      <td>High Usage</td>\n",
       "      <td>Low Usage</td>\n",
       "      <td>Low Usage</td>\n",
       "      <td>0.73464</td>\n",
       "      <td>0.26536</td>\n",
       "      <td>inf</td>\n",
       "      <td>33578.000</td>\n",
       "    </tr>\n",
       "    <tr>\n",
       "      <th>208</th>\n",
       "      <td>366</td>\n",
       "      <td>2016</td>\n",
       "      <td>NonResidential</td>\n",
       "      <td>Small- and Mid-Sized Office</td>\n",
       "      <td>98105.0</td>\n",
       "      <td>1142000500</td>\n",
       "      <td>4</td>\n",
       "      <td>NORTHEAST</td>\n",
       "      <td>0.0</td>\n",
       "      <td>5</td>\n",
       "      <td>...</td>\n",
       "      <td>1.20</td>\n",
       "      <td>55</td>\n",
       "      <td>Low</td>\n",
       "      <td>High Usage</td>\n",
       "      <td>High Usage</td>\n",
       "      <td>Low Usage</td>\n",
       "      <td>1.00000</td>\n",
       "      <td>0.00000</td>\n",
       "      <td>inf</td>\n",
       "      <td>19801.000</td>\n",
       "    </tr>\n",
       "    <tr>\n",
       "      <th>228</th>\n",
       "      <td>391</td>\n",
       "      <td>2016</td>\n",
       "      <td>NonResidential</td>\n",
       "      <td>Mixed Use Property</td>\n",
       "      <td>98108.0</td>\n",
       "      <td>0007400015</td>\n",
       "      <td>2</td>\n",
       "      <td>GREATER DUWAMISH</td>\n",
       "      <td>0.0</td>\n",
       "      <td>1</td>\n",
       "      <td>...</td>\n",
       "      <td>1.31</td>\n",
       "      <td>46</td>\n",
       "      <td>Low</td>\n",
       "      <td>High Usage</td>\n",
       "      <td>High Usage</td>\n",
       "      <td>Low Usage</td>\n",
       "      <td>1.00000</td>\n",
       "      <td>0.00000</td>\n",
       "      <td>inf</td>\n",
       "      <td>88400.000</td>\n",
       "    </tr>\n",
       "  </tbody>\n",
       "</table>\n",
       "<p>5 rows × 30 columns</p>\n",
       "</div>"
      ],
      "text/plain": [
       "     OSEBuildingID  DataYear    BuildingType          PrimaryPropertyType  \\\n",
       "57              89      2016  NonResidential               Medical Office   \n",
       "144            267      2016  NonResidential                        Hotel   \n",
       "172            322      2016  NonResidential                 Large Office   \n",
       "208            366      2016  NonResidential  Small- and Mid-Sized Office   \n",
       "228            391      2016  NonResidential           Mixed Use Property   \n",
       "\n",
       "     ZipCode TaxParcelIdentificationNumber  CouncilDistrictCode  \\\n",
       "57   98122.0                    1978201270                    3   \n",
       "144  98101.0                    6792120000                    7   \n",
       "172  98121.0                    0656000005                    7   \n",
       "208  98105.0                    1142000500                    4   \n",
       "228  98108.0                    0007400015                    2   \n",
       "\n",
       "         Neighborhood  NumberofBuildings  NumberofFloors  ...  \\\n",
       "57               EAST                0.0               3  ...   \n",
       "144          DOWNTOWN                1.0               0  ...   \n",
       "172          DOWNTOWN                0.0               3  ...   \n",
       "208         NORTHEAST                0.0               5  ...   \n",
       "228  GREATER DUWAMISH                0.0               1  ...   \n",
       "\n",
       "     GHGEmissionsIntensity Âgebâtiment out_clas  consumption_rate_Electricity  \\\n",
       "57                    2.41          51      Low                    High Usage   \n",
       "144                   1.75          17      Low                    High Usage   \n",
       "172                   0.68          48      Low                    High Usage   \n",
       "208                   1.20          55      Low                    High Usage   \n",
       "228                   1.31          46      Low                    High Usage   \n",
       "\n",
       "     consumption_rate_Gas  consumption_rate_Steam  GFABuildingRate  \\\n",
       "57             High Usage               Low Usage          1.00000   \n",
       "144            High Usage               Low Usage          1.00000   \n",
       "172             Low Usage               Low Usage          0.73464   \n",
       "208            High Usage               Low Usage          1.00000   \n",
       "228            High Usage               Low Usage          1.00000   \n",
       "\n",
       "     GFAParkingRate GFAPerBuilding  GFAPerFloor  \n",
       "57          0.00000            inf    59671.333  \n",
       "144         0.00000       934292.0          inf  \n",
       "172         0.26536            inf    33578.000  \n",
       "208         0.00000            inf    19801.000  \n",
       "228         0.00000            inf    88400.000  \n",
       "\n",
       "[5 rows x 30 columns]"
      ]
     },
     "execution_count": 6,
     "metadata": {},
     "output_type": "execute_result"
    }
   ],
   "source": [
    "energy[(energy.GFAPerBuilding == np.inf) | (energy.GFAPerFloor == np.inf)].head()"
   ]
  },
  {
   "cell_type": "code",
   "execution_count": 7,
   "id": "8a53f8cc",
   "metadata": {},
   "outputs": [],
   "source": [
    "energy['GFAPerBuilding'] = np.where(((energy.GFAPerBuilding == np.inf) & (energy.NumberofBuildings == 0)),0, energy.GFAPerBuilding)\n",
    "energy['GFAPerFloor'] = np.where(((energy.GFAPerFloor == np.inf) & (energy.NumberofFloors == 0)),0, energy.GFAPerFloor)"
   ]
  },
  {
   "cell_type": "code",
   "execution_count": 8,
   "id": "a2f845f5",
   "metadata": {},
   "outputs": [],
   "source": [
    "numerical_features = energy.select_dtypes(include=['int64','float64'])\n",
    "categorical_features = energy.select_dtypes(exclude=['int64','float64'])"
   ]
  },
  {
   "cell_type": "code",
   "execution_count": 9,
   "id": "b0897326",
   "metadata": {},
   "outputs": [
    {
     "data": {
      "text/plain": [
       "BuildingType                        4\n",
       "PrimaryPropertyType                20\n",
       "TaxParcelIdentificationNumber    1034\n",
       "Neighborhood                       13\n",
       "ListOfAllPropertyUseTypes         298\n",
       "LargestPropertyUseType             50\n",
       "ComplianceStatus                    2\n",
       "out_clas                            1\n",
       "consumption_rate_Electricity        2\n",
       "consumption_rate_Gas                2\n",
       "consumption_rate_Steam              2\n",
       "dtype: int64"
      ]
     },
     "execution_count": 9,
     "metadata": {},
     "output_type": "execute_result"
    }
   ],
   "source": [
    "categorical_features.nunique()"
   ]
  },
  {
   "cell_type": "code",
   "execution_count": 10,
   "id": "47b4d08b",
   "metadata": {},
   "outputs": [],
   "source": [
    "categorical_features = categorical_features.drop(['ComplianceStatus','out_clas'], axis=1)"
   ]
  },
  {
   "cell_type": "code",
   "execution_count": 11,
   "id": "c1647ff6",
   "metadata": {},
   "outputs": [
    {
     "data": {
      "text/plain": [
       "['OSEBuildingID',\n",
       " 'DataYear',\n",
       " 'ZipCode',\n",
       " 'CouncilDistrictCode',\n",
       " 'NumberofBuildings',\n",
       " 'NumberofFloors',\n",
       " 'PropertyGFATotal',\n",
       " 'ENERGYSTARScore',\n",
       " 'SiteEUIWN(kBtu/sf)',\n",
       " 'SourceEUIWN(kBtu/sf)',\n",
       " 'SiteEnergyUseWN(kBtu)',\n",
       " 'Electricity(kWh)',\n",
       " 'TotalGHGEmissions',\n",
       " 'GHGEmissionsIntensity',\n",
       " 'Âgebâtiment',\n",
       " 'GFABuildingRate',\n",
       " 'GFAParkingRate',\n",
       " 'GFAPerBuilding',\n",
       " 'GFAPerFloor']"
      ]
     },
     "execution_count": 11,
     "metadata": {},
     "output_type": "execute_result"
    }
   ],
   "source": [
    "list(numerical_features.columns)"
   ]
  },
  {
   "cell_type": "code",
   "execution_count": 12,
   "id": "650f5527",
   "metadata": {},
   "outputs": [],
   "source": [
    "energystar_score = numerical_features['ENERGYSTARScore']\n",
    "numerical_features = numerical_features.drop(['ENERGYSTARScore','OSEBuildingID','CouncilDistrictCode','ZipCode','Electricity(kWh)','GHGEmissionsIntensity',], axis=1)"
   ]
  },
  {
   "cell_type": "code",
   "execution_count": 13,
   "id": "1a24d9bb",
   "metadata": {},
   "outputs": [],
   "source": [
    "data_filter = pd.concat([categorical_features, numerical_features], axis=1)"
   ]
  },
  {
   "cell_type": "code",
   "execution_count": 14,
   "id": "451de68a",
   "metadata": {},
   "outputs": [
    {
     "data": {
      "text/html": [
       "<div>\n",
       "<style scoped>\n",
       "    .dataframe tbody tr th:only-of-type {\n",
       "        vertical-align: middle;\n",
       "    }\n",
       "\n",
       "    .dataframe tbody tr th {\n",
       "        vertical-align: top;\n",
       "    }\n",
       "\n",
       "    .dataframe thead th {\n",
       "        text-align: right;\n",
       "    }\n",
       "</style>\n",
       "<table border=\"1\" class=\"dataframe\">\n",
       "  <thead>\n",
       "    <tr style=\"text-align: right;\">\n",
       "      <th></th>\n",
       "      <th>BuildingType</th>\n",
       "      <th>PrimaryPropertyType</th>\n",
       "      <th>TaxParcelIdentificationNumber</th>\n",
       "      <th>Neighborhood</th>\n",
       "      <th>ListOfAllPropertyUseTypes</th>\n",
       "      <th>LargestPropertyUseType</th>\n",
       "      <th>consumption_rate_Electricity</th>\n",
       "      <th>consumption_rate_Gas</th>\n",
       "      <th>consumption_rate_Steam</th>\n",
       "      <th>DataYear</th>\n",
       "      <th>...</th>\n",
       "      <th>PropertyGFATotal</th>\n",
       "      <th>SiteEUIWN(kBtu/sf)</th>\n",
       "      <th>SourceEUIWN(kBtu/sf)</th>\n",
       "      <th>SiteEnergyUseWN(kBtu)</th>\n",
       "      <th>TotalGHGEmissions</th>\n",
       "      <th>Âgebâtiment</th>\n",
       "      <th>GFABuildingRate</th>\n",
       "      <th>GFAParkingRate</th>\n",
       "      <th>GFAPerBuilding</th>\n",
       "      <th>GFAPerFloor</th>\n",
       "    </tr>\n",
       "  </thead>\n",
       "  <tbody>\n",
       "    <tr>\n",
       "      <th>0</th>\n",
       "      <td>NonResidential</td>\n",
       "      <td>Hotel</td>\n",
       "      <td>0659000030</td>\n",
       "      <td>DOWNTOWN</td>\n",
       "      <td>Hotel</td>\n",
       "      <td>Hotel</td>\n",
       "      <td>High Usage</td>\n",
       "      <td>High Usage</td>\n",
       "      <td>High Usage</td>\n",
       "      <td>2016</td>\n",
       "      <td>...</td>\n",
       "      <td>88434</td>\n",
       "      <td>84.300003</td>\n",
       "      <td>189.000000</td>\n",
       "      <td>7456910.0</td>\n",
       "      <td>249.98</td>\n",
       "      <td>89</td>\n",
       "      <td>1.00000</td>\n",
       "      <td>0.00000</td>\n",
       "      <td>88434.0</td>\n",
       "      <td>7369.500</td>\n",
       "    </tr>\n",
       "    <tr>\n",
       "      <th>1</th>\n",
       "      <td>NonResidential</td>\n",
       "      <td>Hotel</td>\n",
       "      <td>0659000220</td>\n",
       "      <td>DOWNTOWN</td>\n",
       "      <td>Hotel, Parking, Restaurant</td>\n",
       "      <td>Hotel</td>\n",
       "      <td>High Usage</td>\n",
       "      <td>High Usage</td>\n",
       "      <td>Low Usage</td>\n",
       "      <td>2016</td>\n",
       "      <td>...</td>\n",
       "      <td>103566</td>\n",
       "      <td>97.900002</td>\n",
       "      <td>179.399994</td>\n",
       "      <td>8664479.0</td>\n",
       "      <td>295.86</td>\n",
       "      <td>20</td>\n",
       "      <td>0.85455</td>\n",
       "      <td>0.14545</td>\n",
       "      <td>103566.0</td>\n",
       "      <td>9415.091</td>\n",
       "    </tr>\n",
       "    <tr>\n",
       "      <th>2</th>\n",
       "      <td>NonResidential</td>\n",
       "      <td>Hotel</td>\n",
       "      <td>0659000475</td>\n",
       "      <td>DOWNTOWN</td>\n",
       "      <td>Hotel</td>\n",
       "      <td>Hotel</td>\n",
       "      <td>High Usage</td>\n",
       "      <td>High Usage</td>\n",
       "      <td>High Usage</td>\n",
       "      <td>2016</td>\n",
       "      <td>...</td>\n",
       "      <td>956110</td>\n",
       "      <td>97.699997</td>\n",
       "      <td>244.100006</td>\n",
       "      <td>73937112.0</td>\n",
       "      <td>2089.28</td>\n",
       "      <td>47</td>\n",
       "      <td>0.79425</td>\n",
       "      <td>0.20575</td>\n",
       "      <td>956110.0</td>\n",
       "      <td>23319.756</td>\n",
       "    </tr>\n",
       "    <tr>\n",
       "      <th>3</th>\n",
       "      <td>NonResidential</td>\n",
       "      <td>Hotel</td>\n",
       "      <td>0659000640</td>\n",
       "      <td>DOWNTOWN</td>\n",
       "      <td>Hotel</td>\n",
       "      <td>Hotel</td>\n",
       "      <td>High Usage</td>\n",
       "      <td>High Usage</td>\n",
       "      <td>High Usage</td>\n",
       "      <td>2016</td>\n",
       "      <td>...</td>\n",
       "      <td>61320</td>\n",
       "      <td>113.300003</td>\n",
       "      <td>224.000000</td>\n",
       "      <td>6946800.5</td>\n",
       "      <td>286.43</td>\n",
       "      <td>90</td>\n",
       "      <td>1.00000</td>\n",
       "      <td>0.00000</td>\n",
       "      <td>61320.0</td>\n",
       "      <td>6132.000</td>\n",
       "    </tr>\n",
       "    <tr>\n",
       "      <th>4</th>\n",
       "      <td>NonResidential</td>\n",
       "      <td>Hotel</td>\n",
       "      <td>0659000970</td>\n",
       "      <td>DOWNTOWN</td>\n",
       "      <td>Hotel, Parking, Swimming Pool</td>\n",
       "      <td>Hotel</td>\n",
       "      <td>High Usage</td>\n",
       "      <td>High Usage</td>\n",
       "      <td>Low Usage</td>\n",
       "      <td>2016</td>\n",
       "      <td>...</td>\n",
       "      <td>175580</td>\n",
       "      <td>118.699997</td>\n",
       "      <td>215.600006</td>\n",
       "      <td>14656503.0</td>\n",
       "      <td>505.01</td>\n",
       "      <td>36</td>\n",
       "      <td>0.64688</td>\n",
       "      <td>0.35312</td>\n",
       "      <td>175580.0</td>\n",
       "      <td>9754.444</td>\n",
       "    </tr>\n",
       "  </tbody>\n",
       "</table>\n",
       "<p>5 rows × 22 columns</p>\n",
       "</div>"
      ],
      "text/plain": [
       "     BuildingType PrimaryPropertyType TaxParcelIdentificationNumber  \\\n",
       "0  NonResidential               Hotel                    0659000030   \n",
       "1  NonResidential               Hotel                    0659000220   \n",
       "2  NonResidential               Hotel                    0659000475   \n",
       "3  NonResidential               Hotel                    0659000640   \n",
       "4  NonResidential               Hotel                    0659000970   \n",
       "\n",
       "  Neighborhood      ListOfAllPropertyUseTypes LargestPropertyUseType  \\\n",
       "0     DOWNTOWN                          Hotel                  Hotel   \n",
       "1     DOWNTOWN     Hotel, Parking, Restaurant                  Hotel   \n",
       "2     DOWNTOWN                          Hotel                  Hotel   \n",
       "3     DOWNTOWN                          Hotel                  Hotel   \n",
       "4     DOWNTOWN  Hotel, Parking, Swimming Pool                  Hotel   \n",
       "\n",
       "  consumption_rate_Electricity consumption_rate_Gas consumption_rate_Steam  \\\n",
       "0                   High Usage           High Usage             High Usage   \n",
       "1                   High Usage           High Usage              Low Usage   \n",
       "2                   High Usage           High Usage             High Usage   \n",
       "3                   High Usage           High Usage             High Usage   \n",
       "4                   High Usage           High Usage              Low Usage   \n",
       "\n",
       "   DataYear  ...  PropertyGFATotal  SiteEUIWN(kBtu/sf)  SourceEUIWN(kBtu/sf)  \\\n",
       "0      2016  ...             88434           84.300003            189.000000   \n",
       "1      2016  ...            103566           97.900002            179.399994   \n",
       "2      2016  ...            956110           97.699997            244.100006   \n",
       "3      2016  ...             61320          113.300003            224.000000   \n",
       "4      2016  ...            175580          118.699997            215.600006   \n",
       "\n",
       "   SiteEnergyUseWN(kBtu)  TotalGHGEmissions  Âgebâtiment  GFABuildingRate  \\\n",
       "0              7456910.0             249.98           89          1.00000   \n",
       "1              8664479.0             295.86           20          0.85455   \n",
       "2             73937112.0            2089.28           47          0.79425   \n",
       "3              6946800.5             286.43           90          1.00000   \n",
       "4             14656503.0             505.01           36          0.64688   \n",
       "\n",
       "   GFAParkingRate  GFAPerBuilding  GFAPerFloor  \n",
       "0         0.00000         88434.0     7369.500  \n",
       "1         0.14545        103566.0     9415.091  \n",
       "2         0.20575        956110.0    23319.756  \n",
       "3         0.00000         61320.0     6132.000  \n",
       "4         0.35312        175580.0     9754.444  \n",
       "\n",
       "[5 rows x 22 columns]"
      ]
     },
     "execution_count": 14,
     "metadata": {},
     "output_type": "execute_result"
    }
   ],
   "source": [
    "data_filter.head()"
   ]
  },
  {
   "cell_type": "code",
   "execution_count": 15,
   "id": "e26ca801",
   "metadata": {},
   "outputs": [],
   "source": [
    "from sklearn.preprocessing import OneHotEncoder, StandardScaler\n",
    "from category_encoders.target_encoder import TargetEncoder\n",
    "from sklearn.compose import ColumnTransformer\n",
    "\n",
    "target_features = ['BuildingType','PrimaryPropertyType','Neighborhood','LargestPropertyUseType',\n",
    "                   'consumption_rate_Electricity','consumption_rate_Gas','consumption_rate_Steam']\n",
    "target_transformer = OneHotEncoder(handle_unknown='ignore', sparse=False)\n",
    "\n",
    "numeric_features = ['NumberofBuildings','NumberofFloors',\n",
    "                    'PropertyGFATotal','Âgebâtiment','GFABuildingRate','GFAParkingRate',\n",
    "                    'GFAPerBuilding','GFAPerFloor']\n",
    "numeric_transformer = StandardScaler()\n",
    "\n",
    "preprocessor = ColumnTransformer(transformers=[\n",
    "    ('target', target_transformer, target_features),\n",
    "    ('numeric', numeric_transformer, numeric_features)\n",
    "])"
   ]
  },
  {
   "cell_type": "code",
   "execution_count": 16,
   "id": "fceb3a00",
   "metadata": {},
   "outputs": [
    {
     "data": {
      "image/png": "[encoded data removed]",
      "text/plain": [
       "<Figure size 1440x576 with 2 Axes>"
      ]
     },
     "metadata": {
      "needs_background": "light"
     },
     "output_type": "display_data"
    }
   ],
   "source": [
    "from sklearn.preprocessing import FunctionTransformer\n",
    "Y = data_filter[[\"TotalGHGEmissions\",\"SiteEnergyUseWN(kBtu)\"]]\n",
    "logtransformer = FunctionTransformer(np.log, inverse_func = np.exp, check_inverse = True)\n",
    "Y_log = logtransformer.transform(Y)\n",
    "\n",
    "fig, axes = plt.subplots(nrows=1, ncols=2, sharex=False, sharey=False, figsize=(20,8))\n",
    "sns.histplot(data=Y, x='SiteEnergyUseWN(kBtu)', stat=\"density\", ax=axes[0])\n",
    "axes[0].set_title(\"Données initiales\", color='#2cb7b0')\n",
    "sns.histplot(data=Y_log, x='SiteEnergyUseWN(kBtu)', stat=\"density\", ax=axes[1])\n",
    "axes[1].set_title(\"Application du logarithme\", color='#2cb7b0')\n",
    "plt.suptitle(\"Distribution de la consommation d'énergies avec l'application du logarithme\",fontsize=22)\n",
    "plt.show()"
   ]
  },
  {
   "cell_type": "code",
   "execution_count": 17,
   "id": "f5644c31",
   "metadata": {},
   "outputs": [],
   "source": [
    "data_filter[\"SiteEnergyUseWN(kBtu)_log\"] = np.log(data_filter[\"SiteEnergyUseWN(kBtu)\"])\n",
    "data_filter[\"TotalGHGEmissions_log\"] = np.log(data_filter[\"TotalGHGEmissions\"])"
   ]
  },
  {
   "cell_type": "code",
   "execution_count": 18,
   "id": "e8f00392",
   "metadata": {},
   "outputs": [
    {
     "name": "stdout",
     "output_type": "stream",
     "text": [
      "<class 'pandas.core.frame.DataFrame'>\n",
      "RangeIndex: 1085 entries, 0 to 1084\n",
      "Data columns (total 24 columns):\n",
      " #   Column                         Non-Null Count  Dtype  \n",
      "---  ------                         --------------  -----  \n",
      " 0   BuildingType                   1085 non-null   object \n",
      " 1   PrimaryPropertyType            1085 non-null   object \n",
      " 2   TaxParcelIdentificationNumber  1085 non-null   object \n",
      " 3   Neighborhood                   1085 non-null   object \n",
      " 4   ListOfAllPropertyUseTypes      1085 non-null   object \n",
      " 5   LargestPropertyUseType         1085 non-null   object \n",
      " 6   consumption_rate_Electricity   1085 non-null   object \n",
      " 7   consumption_rate_Gas           1085 non-null   object \n",
      " 8   consumption_rate_Steam         1085 non-null   object \n",
      " 9   DataYear                       1085 non-null   int64  \n",
      " 10  NumberofBuildings              1085 non-null   float64\n",
      " 11  NumberofFloors                 1085 non-null   int64  \n",
      " 12  PropertyGFATotal               1085 non-null   int64  \n",
      " 13  SiteEUIWN(kBtu/sf)             1085 non-null   float64\n",
      " 14  SourceEUIWN(kBtu/sf)           1085 non-null   float64\n",
      " 15  SiteEnergyUseWN(kBtu)          1085 non-null   float64\n",
      " 16  TotalGHGEmissions              1085 non-null   float64\n",
      " 17  Âgebâtiment                    1085 non-null   int64  \n",
      " 18  GFABuildingRate                1085 non-null   float64\n",
      " 19  GFAParkingRate                 1085 non-null   float64\n",
      " 20  GFAPerBuilding                 1085 non-null   float64\n",
      " 21  GFAPerFloor                    1085 non-null   float64\n",
      " 22  SiteEnergyUseWN(kBtu)_log      1085 non-null   float64\n",
      " 23  TotalGHGEmissions_log          1085 non-null   float64\n",
      "dtypes: float64(11), int64(4), object(9)\n",
      "memory usage: 203.6+ KB\n"
     ]
    }
   ],
   "source": [
    "data_filter.info()"
   ]
  },
  {
   "cell_type": "code",
   "execution_count": 19,
   "id": "308de848",
   "metadata": {},
   "outputs": [],
   "source": [
    "data_filter = data_filter.drop(['TaxParcelIdentificationNumber','ListOfAllPropertyUseTypes', 'DataYear','SourceEUIWN(kBtu/sf)','SiteEUIWN(kBtu/sf)'], axis=1)"
   ]
  },
  {
   "cell_type": "markdown",
   "id": "4700b9ff",
   "metadata": {},
   "source": [
    "## Les Models de Prediction de la consommation d'énergie "
   ]
  },
  {
   "cell_type": "markdown",
   "id": "ae9cb24b",
   "metadata": {},
   "source": [
    "### D'abord on va etudie les models sans log"
   ]
  },
  {
   "cell_type": "markdown",
   "id": "ea2d9adf",
   "metadata": {},
   "source": [
    "Tout d'abord, nous allons créer un modèle de base pour évaluer les performances des modèles que nous utiliserons et vérifier qu'ils améliorent les prédictions. \n",
    "\n",
    "pour cela, nous utiliserons une régression dummy comme première étape"
   ]
  },
  {
   "cell_type": "code",
   "execution_count": 20,
   "id": "19ca083f",
   "metadata": {},
   "outputs": [],
   "source": [
    "from sklearn.metrics import mean_absolute_error, mean_squared_error, r2_score, mean_absolute_percentage_error"
   ]
  },
  {
   "cell_type": "code",
   "execution_count": 21,
   "id": "30e0443c",
   "metadata": {},
   "outputs": [
    {
     "name": "stdout",
     "output_type": "stream",
     "text": [
      "Entrainement: 813 lignes,\n",
      "Test: 272 lignes.\n",
      "\n"
     ]
    }
   ],
   "source": [
    "from sklearn.model_selection import train_test_split\n",
    "\n",
    "X = data_filter.drop(['TotalGHGEmissions','SiteEnergyUseWN(kBtu)',\"SiteEnergyUseWN(kBtu)_log\",\"TotalGHGEmissions_log\"], axis=1)\n",
    "Y = data_filter[[\"SiteEnergyUseWN(kBtu)\"]]\n",
    "X_train, X_test, Y_train, Y_test = train_test_split(X, Y, test_size=0.25, random_state=42)\n",
    "\n",
    "print(\"Entrainement: {} lignes,\\nTest: {} lignes.\\n\".format(X_train.shape[0],\n",
    "                                                            X_test.shape[0]))\n"
   ]
  },
  {
   "cell_type": "markdown",
   "id": "6e2739d8",
   "metadata": {},
   "source": [
    "## Modèle Baseline "
   ]
  },
  {
   "cell_type": "code",
   "execution_count": 22,
   "id": "c2899d4b",
   "metadata": {},
   "outputs": [],
   "source": [
    "# transformation des variables\n",
    "X_train = preprocessor.fit_transform(X_train)"
   ]
  },
  {
   "cell_type": "code",
   "execution_count": 23,
   "id": "96af4fd6",
   "metadata": {},
   "outputs": [
    {
     "data": {
      "text/html": [
       "<style>#sk-container-id-1 {color: black;background-color: white;}#sk-container-id-1 pre{padding: 0;}#sk-container-id-1 div.sk-toggleable {background-color: white;}#sk-container-id-1 label.sk-toggleable__label {cursor: pointer;display: block;width: 100%;margin-bottom: 0;padding: 0.3em;box-sizing: border-box;text-align: center;}#sk-container-id-1 label.sk-toggleable__label-arrow:before {content: \"▸\";float: left;margin-right: 0.25em;color: #696969;}#sk-container-id-1 label.sk-toggleable__label-arrow:hover:before {color: black;}#sk-container-id-1 div.sk-estimator:hover label.sk-toggleable__label-arrow:before {color: black;}#sk-container-id-1 div.sk-toggleable__content {max-height: 0;max-width: 0;overflow: hidden;text-align: left;background-color: #f0f8ff;}#sk-container-id-1 div.sk-toggleable__content pre {margin: 0.2em;color: black;border-radius: 0.25em;background-color: #f0f8ff;}#sk-container-id-1 input.sk-toggleable__control:checked~div.sk-toggleable__content {max-height: 200px;max-width: 100%;overflow: auto;}#sk-container-id-1 input.sk-toggleable__control:checked~label.sk-toggleable__label-arrow:before {content: \"▾\";}#sk-container-id-1 div.sk-estimator input.sk-toggleable__control:checked~label.sk-toggleable__label {background-color: #d4ebff;}#sk-container-id-1 div.sk-label input.sk-toggleable__control:checked~label.sk-toggleable__label {background-color: #d4ebff;}#sk-container-id-1 input.sk-hidden--visually {border: 0;clip: rect(1px 1px 1px 1px);clip: rect(1px, 1px, 1px, 1px);height: 1px;margin: -1px;overflow: hidden;padding: 0;position: absolute;width: 1px;}#sk-container-id-1 div.sk-estimator {font-family: monospace;background-color: #f0f8ff;border: 1px dotted black;border-radius: 0.25em;box-sizing: border-box;margin-bottom: 0.5em;}#sk-container-id-1 div.sk-estimator:hover {background-color: #d4ebff;}#sk-container-id-1 div.sk-parallel-item::after {content: \"\";width: 100%;border-bottom: 1px solid gray;flex-grow: 1;}#sk-container-id-1 div.sk-label:hover label.sk-toggleable__label {background-color: #d4ebff;}#sk-container-id-1 div.sk-serial::before {content: \"\";position: absolute;border-left: 1px solid gray;box-sizing: border-box;top: 0;bottom: 0;left: 50%;z-index: 0;}#sk-container-id-1 div.sk-serial {display: flex;flex-direction: column;align-items: center;background-color: white;padding-right: 0.2em;padding-left: 0.2em;position: relative;}#sk-container-id-1 div.sk-item {position: relative;z-index: 1;}#sk-container-id-1 div.sk-parallel {display: flex;align-items: stretch;justify-content: center;background-color: white;position: relative;}#sk-container-id-1 div.sk-item::before, #sk-container-id-1 div.sk-parallel-item::before {content: \"\";position: absolute;border-left: 1px solid gray;box-sizing: border-box;top: 0;bottom: 0;left: 50%;z-index: -1;}#sk-container-id-1 div.sk-parallel-item {display: flex;flex-direction: column;z-index: 1;position: relative;background-color: white;}#sk-container-id-1 div.sk-parallel-item:first-child::after {align-self: flex-end;width: 50%;}#sk-container-id-1 div.sk-parallel-item:last-child::after {align-self: flex-start;width: 50%;}#sk-container-id-1 div.sk-parallel-item:only-child::after {width: 0;}#sk-container-id-1 div.sk-dashed-wrapped {border: 1px dashed gray;margin: 0 0.4em 0.5em 0.4em;box-sizing: border-box;padding-bottom: 0.4em;background-color: white;}#sk-container-id-1 div.sk-label label {font-family: monospace;font-weight: bold;display: inline-block;line-height: 1.2em;}#sk-container-id-1 div.sk-label-container {text-align: center;}#sk-container-id-1 div.sk-container {/* jupyter's `normalize.less` sets `[hidden] { display: none; }` but bootstrap.min.css set `[hidden] { display: none !important; }` so we also need the `!important` here to be able to override the default hidden behavior on the sphinx rendered scikit-learn.org. See: https://github.com/scikit-learn/scikit-learn/issues/21755 */display: inline-block !important;position: relative;}#sk-container-id-1 div.sk-text-repr-fallback {display: none;}</style><div id=\"sk-container-id-1\" class=\"sk-top-container\"><div class=\"sk-text-repr-fallback\"><pre>DummyRegressor(strategy=&#x27;median&#x27;)</pre><b>In a Jupyter environment, please rerun this cell to show the HTML representation or trust the notebook. <br />On GitHub, the HTML representation is unable to render, please try loading this page with nbviewer.org.</b></div><div class=\"sk-container\" hidden><div class=\"sk-item\"><div class=\"sk-estimator sk-toggleable\"><input class=\"sk-toggleable__control sk-hidden--visually\" id=\"sk-estimator-id-1\" type=\"checkbox\" checked><label for=\"sk-estimator-id-1\" class=\"sk-toggleable__label sk-toggleable__label-arrow\">DummyRegressor</label><div class=\"sk-toggleable__content\"><pre>DummyRegressor(strategy=&#x27;median&#x27;)</pre></div></div></div></div></div>"
      ],
      "text/plain": [
       "DummyRegressor(strategy='median')"
      ]
     },
     "execution_count": 23,
     "metadata": {},
     "output_type": "execute_result"
    }
   ],
   "source": [
    "from sklearn.dummy import DummyRegressor\n",
    "\n",
    "dummy_reg = DummyRegressor(strategy=\"median\")\n",
    "dummy_reg.fit(X_train, Y_train)"
   ]
  },
  {
   "cell_type": "code",
   "execution_count": 24,
   "id": "03d6dfee",
   "metadata": {},
   "outputs": [
    {
     "name": "stdout",
     "output_type": "stream",
     "text": [
      "MAE:  9882214.40625\n",
      "MSE:  1099042288081069.1\n",
      "RMSE:  33151806.70915341\n",
      "MAPE:  0.98359\n",
      "R²:  -0.04941\n"
     ]
    }
   ],
   "source": [
    "# Prédiction dummy regressor\n",
    "# Evaluation du modèle\n",
    "X_test = preprocessor.transform(X_test)\n",
    "Y_pred= dummy_reg.predict(X_test)\n",
    "reg_met(np.array(Y_test), Y_pred)"
   ]
  },
  {
   "cell_type": "code",
   "execution_count": 25,
   "id": "27d9572a",
   "metadata": {},
   "outputs": [],
   "source": [
    "# examiner différents modèles de régression\n",
    "from sklearn.dummy import DummyRegressor\n",
    "from sklearn.linear_model import Lasso,Ridge, LinearRegression\n",
    "from sklearn.tree import DecisionTreeRegressor\n",
    "from sklearn.svm import SVR\n",
    "from sklearn.kernel_ridge import KernelRidge\n",
    "from sklearn.ensemble import AdaBoostRegressor,RandomForestRegressor, GradientBoostingRegressor\n",
    "from sklearn.neighbors import KNeighborsRegressor\n",
    "\n",
    "dummy_reg = DummyRegressor(strategy=\"median\")\n",
    "lasso = Lasso(random_state=42)\n",
    "ridge = Ridge(random_state=42)\n",
    "dt_reg =  DecisionTreeRegressor(random_state=42)\n",
    "svm_reg = SVR()\n",
    "ridge_kernel = KernelRidge()\n",
    "adaboost = AdaBoostRegressor(random_state=42)\n",
    "rdmforest = RandomForestRegressor(random_state=42)\n",
    "gdboost = GradientBoostingRegressor(random_state=42)\n",
    "neigh = KNeighborsRegressor(n_neighbors=3)"
   ]
  },
  {
   "cell_type": "code",
   "execution_count": 26,
   "id": "892070e1",
   "metadata": {},
   "outputs": [
    {
     "data": {
      "text/html": [
       "<div>\n",
       "<style scoped>\n",
       "    .dataframe tbody tr th:only-of-type {\n",
       "        vertical-align: middle;\n",
       "    }\n",
       "\n",
       "    .dataframe tbody tr th {\n",
       "        vertical-align: top;\n",
       "    }\n",
       "\n",
       "    .dataframe thead th {\n",
       "        text-align: right;\n",
       "    }\n",
       "</style>\n",
       "<table border=\"1\" class=\"dataframe\">\n",
       "  <thead>\n",
       "    <tr style=\"text-align: right;\">\n",
       "      <th></th>\n",
       "      <th>Dummy Regressor</th>\n",
       "      <th>Lasso</th>\n",
       "      <th>Ridge</th>\n",
       "      <th>DecisionTree</th>\n",
       "      <th>SVM</th>\n",
       "      <th>Ridge Kernel</th>\n",
       "      <th>AdaBoost</th>\n",
       "      <th>Random Forest</th>\n",
       "      <th>GradientBoosting</th>\n",
       "      <th>KNN</th>\n",
       "    </tr>\n",
       "  </thead>\n",
       "  <tbody>\n",
       "    <tr>\n",
       "      <th>MAE</th>\n",
       "      <td>9.882214e+06</td>\n",
       "      <td>6.921841e+06</td>\n",
       "      <td>6.986702e+06</td>\n",
       "      <td>7.039676e+06</td>\n",
       "      <td>9.882192e+06</td>\n",
       "      <td>6.991724e+06</td>\n",
       "      <td>1.684577e+07</td>\n",
       "      <td>6.014202e+06</td>\n",
       "      <td>6.131018e+06</td>\n",
       "      <td>7.031609e+06</td>\n",
       "    </tr>\n",
       "    <tr>\n",
       "      <th>MSE</th>\n",
       "      <td>1.099042e+15</td>\n",
       "      <td>8.500710e+14</td>\n",
       "      <td>8.527586e+14</td>\n",
       "      <td>8.720105e+14</td>\n",
       "      <td>1.099041e+15</td>\n",
       "      <td>8.535716e+14</td>\n",
       "      <td>9.216402e+14</td>\n",
       "      <td>7.234253e+14</td>\n",
       "      <td>7.554722e+14</td>\n",
       "      <td>7.880508e+14</td>\n",
       "    </tr>\n",
       "    <tr>\n",
       "      <th>RMSE</th>\n",
       "      <td>3.315181e+07</td>\n",
       "      <td>2.915598e+07</td>\n",
       "      <td>2.920203e+07</td>\n",
       "      <td>2.952982e+07</td>\n",
       "      <td>3.315179e+07</td>\n",
       "      <td>2.921595e+07</td>\n",
       "      <td>3.035853e+07</td>\n",
       "      <td>2.689657e+07</td>\n",
       "      <td>2.748585e+07</td>\n",
       "      <td>2.807224e+07</td>\n",
       "    </tr>\n",
       "    <tr>\n",
       "      <th>R²</th>\n",
       "      <td>-4.900000e-02</td>\n",
       "      <td>1.880000e-01</td>\n",
       "      <td>1.860000e-01</td>\n",
       "      <td>1.670000e-01</td>\n",
       "      <td>-4.900000e-02</td>\n",
       "      <td>1.850000e-01</td>\n",
       "      <td>1.200000e-01</td>\n",
       "      <td>3.090000e-01</td>\n",
       "      <td>2.790000e-01</td>\n",
       "      <td>2.480000e-01</td>\n",
       "    </tr>\n",
       "    <tr>\n",
       "      <th>time</th>\n",
       "      <td>1.338940e-04</td>\n",
       "      <td>2.340823e-03</td>\n",
       "      <td>2.113030e-04</td>\n",
       "      <td>4.138690e-04</td>\n",
       "      <td>5.639792e-02</td>\n",
       "      <td>3.836831e-03</td>\n",
       "      <td>7.455705e-03</td>\n",
       "      <td>1.377393e-02</td>\n",
       "      <td>7.919580e-04</td>\n",
       "      <td>7.438980e-03</td>\n",
       "    </tr>\n",
       "  </tbody>\n",
       "</table>\n",
       "</div>"
      ],
      "text/plain": [
       "      Dummy Regressor         Lasso         Ridge  DecisionTree           SVM  \\\n",
       "MAE      9.882214e+06  6.921841e+06  6.986702e+06  7.039676e+06  9.882192e+06   \n",
       "MSE      1.099042e+15  8.500710e+14  8.527586e+14  8.720105e+14  1.099041e+15   \n",
       "RMSE     3.315181e+07  2.915598e+07  2.920203e+07  2.952982e+07  3.315179e+07   \n",
       "R²      -4.900000e-02  1.880000e-01  1.860000e-01  1.670000e-01 -4.900000e-02   \n",
       "time     1.338940e-04  2.340823e-03  2.113030e-04  4.138690e-04  5.639792e-02   \n",
       "\n",
       "      Ridge Kernel      AdaBoost  Random Forest  GradientBoosting  \\\n",
       "MAE   6.991724e+06  1.684577e+07   6.014202e+06      6.131018e+06   \n",
       "MSE   8.535716e+14  9.216402e+14   7.234253e+14      7.554722e+14   \n",
       "RMSE  2.921595e+07  3.035853e+07   2.689657e+07      2.748585e+07   \n",
       "R²    1.850000e-01  1.200000e-01   3.090000e-01      2.790000e-01   \n",
       "time  3.836831e-03  7.455705e-03   1.377393e-02      7.919580e-04   \n",
       "\n",
       "               KNN  \n",
       "MAE   7.031609e+06  \n",
       "MSE   7.880508e+14  \n",
       "RMSE  2.807224e+07  \n",
       "R²    2.480000e-01  \n",
       "time  7.438980e-03  "
      ]
     },
     "execution_count": 26,
     "metadata": {},
     "output_type": "execute_result"
    }
   ],
   "source": [
    "#Les modèles sans paramètre spécifique\n",
    "# MAE, MSE, RMSE, R²\n",
    "model = [dummy_reg, lasso, ridge,  dt_reg, svm_reg, ridge_kernel, adaboost, rdmforest, gdboost,  neigh]\n",
    "dict_model = {}\n",
    "\n",
    "for model in model:\n",
    "    model.fit(X_train, Y_train)\n",
    "    start_time = timeit.default_timer()\n",
    "    Y_pred = model.predict(X_test)\n",
    "    time = timeit.default_timer() - start_time\n",
    "    mae = mean_absolute_error(Y_test, Y_pred)\n",
    "    mse = mean_squared_error(Y_test, Y_pred)\n",
    "    rmse = np.sqrt(mse)\n",
    "    r_score = r2_score(Y_test, Y_pred, multioutput=\"variance_weighted\").round(3)\n",
    "    dict_model[model] = (mae.round(3), mse.round(3), rmse.round(3), r_score, time)\n",
    "\n",
    "results = pd.DataFrame(dict_model, index=[\"MAE\", \"MSE\", \"RMSE\", \"R²\",\"time\"])\n",
    "results.columns = [\"Dummy Regressor\", \"Lasso\", \"Ridge\", \"DecisionTree\", \"SVM\", \"Ridge Kernel\",\n",
    "                      \"AdaBoost\",\"Random Forest\", \"GradientBoosting\", \"KNN\"]\n",
    "\n",
    "results"
   ]
  },
  {
   "cell_type": "markdown",
   "id": "c1a7140a",
   "metadata": {},
   "source": [
    "### Examine avec au log"
   ]
  },
  {
   "cell_type": "code",
   "execution_count": 27,
   "id": "63bdd71b",
   "metadata": {},
   "outputs": [],
   "source": [
    "X = data_filter.drop(['TotalGHGEmissions','SiteEnergyUseWN(kBtu)',\"SiteEnergyUseWN(kBtu)_log\",\"TotalGHGEmissions_log\"], axis=1)\n",
    "Y = data_filter[[\"SiteEnergyUseWN(kBtu)_log\"]]\n",
    "X_train, X_test, Y_train, Y_test = train_test_split(X, Y, test_size=0.25, random_state=42)"
   ]
  },
  {
   "cell_type": "code",
   "execution_count": 28,
   "id": "5f3a0f7e",
   "metadata": {},
   "outputs": [
    {
     "data": {
      "text/html": [
       "<style>#sk-container-id-2 {color: black;background-color: white;}#sk-container-id-2 pre{padding: 0;}#sk-container-id-2 div.sk-toggleable {background-color: white;}#sk-container-id-2 label.sk-toggleable__label {cursor: pointer;display: block;width: 100%;margin-bottom: 0;padding: 0.3em;box-sizing: border-box;text-align: center;}#sk-container-id-2 label.sk-toggleable__label-arrow:before {content: \"▸\";float: left;margin-right: 0.25em;color: #696969;}#sk-container-id-2 label.sk-toggleable__label-arrow:hover:before {color: black;}#sk-container-id-2 div.sk-estimator:hover label.sk-toggleable__label-arrow:before {color: black;}#sk-container-id-2 div.sk-toggleable__content {max-height: 0;max-width: 0;overflow: hidden;text-align: left;background-color: #f0f8ff;}#sk-container-id-2 div.sk-toggleable__content pre {margin: 0.2em;color: black;border-radius: 0.25em;background-color: #f0f8ff;}#sk-container-id-2 input.sk-toggleable__control:checked~div.sk-toggleable__content {max-height: 200px;max-width: 100%;overflow: auto;}#sk-container-id-2 input.sk-toggleable__control:checked~label.sk-toggleable__label-arrow:before {content: \"▾\";}#sk-container-id-2 div.sk-estimator input.sk-toggleable__control:checked~label.sk-toggleable__label {background-color: #d4ebff;}#sk-container-id-2 div.sk-label input.sk-toggleable__control:checked~label.sk-toggleable__label {background-color: #d4ebff;}#sk-container-id-2 input.sk-hidden--visually {border: 0;clip: rect(1px 1px 1px 1px);clip: rect(1px, 1px, 1px, 1px);height: 1px;margin: -1px;overflow: hidden;padding: 0;position: absolute;width: 1px;}#sk-container-id-2 div.sk-estimator {font-family: monospace;background-color: #f0f8ff;border: 1px dotted black;border-radius: 0.25em;box-sizing: border-box;margin-bottom: 0.5em;}#sk-container-id-2 div.sk-estimator:hover {background-color: #d4ebff;}#sk-container-id-2 div.sk-parallel-item::after {content: \"\";width: 100%;border-bottom: 1px solid gray;flex-grow: 1;}#sk-container-id-2 div.sk-label:hover label.sk-toggleable__label {background-color: #d4ebff;}#sk-container-id-2 div.sk-serial::before {content: \"\";position: absolute;border-left: 1px solid gray;box-sizing: border-box;top: 0;bottom: 0;left: 50%;z-index: 0;}#sk-container-id-2 div.sk-serial {display: flex;flex-direction: column;align-items: center;background-color: white;padding-right: 0.2em;padding-left: 0.2em;position: relative;}#sk-container-id-2 div.sk-item {position: relative;z-index: 1;}#sk-container-id-2 div.sk-parallel {display: flex;align-items: stretch;justify-content: center;background-color: white;position: relative;}#sk-container-id-2 div.sk-item::before, #sk-container-id-2 div.sk-parallel-item::before {content: \"\";position: absolute;border-left: 1px solid gray;box-sizing: border-box;top: 0;bottom: 0;left: 50%;z-index: -1;}#sk-container-id-2 div.sk-parallel-item {display: flex;flex-direction: column;z-index: 1;position: relative;background-color: white;}#sk-container-id-2 div.sk-parallel-item:first-child::after {align-self: flex-end;width: 50%;}#sk-container-id-2 div.sk-parallel-item:last-child::after {align-self: flex-start;width: 50%;}#sk-container-id-2 div.sk-parallel-item:only-child::after {width: 0;}#sk-container-id-2 div.sk-dashed-wrapped {border: 1px dashed gray;margin: 0 0.4em 0.5em 0.4em;box-sizing: border-box;padding-bottom: 0.4em;background-color: white;}#sk-container-id-2 div.sk-label label {font-family: monospace;font-weight: bold;display: inline-block;line-height: 1.2em;}#sk-container-id-2 div.sk-label-container {text-align: center;}#sk-container-id-2 div.sk-container {/* jupyter's `normalize.less` sets `[hidden] { display: none; }` but bootstrap.min.css set `[hidden] { display: none !important; }` so we also need the `!important` here to be able to override the default hidden behavior on the sphinx rendered scikit-learn.org. See: https://github.com/scikit-learn/scikit-learn/issues/21755 */display: inline-block !important;position: relative;}#sk-container-id-2 div.sk-text-repr-fallback {display: none;}</style><div id=\"sk-container-id-2\" class=\"sk-top-container\"><div class=\"sk-text-repr-fallback\"><pre>DummyRegressor(strategy=&#x27;median&#x27;)</pre><b>In a Jupyter environment, please rerun this cell to show the HTML representation or trust the notebook. <br />On GitHub, the HTML representation is unable to render, please try loading this page with nbviewer.org.</b></div><div class=\"sk-container\" hidden><div class=\"sk-item\"><div class=\"sk-estimator sk-toggleable\"><input class=\"sk-toggleable__control sk-hidden--visually\" id=\"sk-estimator-id-2\" type=\"checkbox\" checked><label for=\"sk-estimator-id-2\" class=\"sk-toggleable__label sk-toggleable__label-arrow\">DummyRegressor</label><div class=\"sk-toggleable__content\"><pre>DummyRegressor(strategy=&#x27;median&#x27;)</pre></div></div></div></div></div>"
      ],
      "text/plain": [
       "DummyRegressor(strategy='median')"
      ]
     },
     "execution_count": 28,
     "metadata": {},
     "output_type": "execute_result"
    }
   ],
   "source": [
    "dummy_reg = DummyRegressor(strategy=\"median\")\n",
    "dummy_reg.fit(X_train, Y_train)"
   ]
  },
  {
   "cell_type": "code",
   "execution_count": 29,
   "id": "ef00212a",
   "metadata": {},
   "outputs": [
    {
     "name": "stdout",
     "output_type": "stream",
     "text": [
      "MAE:  0.87813\n",
      "MSE:  1.23705\n",
      "RMSE:  1.112226078464313\n",
      "MAPE:  0.05573\n",
      "R²:  -0.00314\n"
     ]
    }
   ],
   "source": [
    "Y_pred= dummy_reg.predict(X_test)\n",
    "reg_met(np.array(Y_test), Y_pred)"
   ]
  },
  {
   "cell_type": "code",
   "execution_count": 57,
   "id": "fe3b3ac0",
   "metadata": {},
   "outputs": [],
   "source": [
    "# examiner différents modèles de régression\n",
    "from sklearn.dummy import DummyRegressor\n",
    "from sklearn.linear_model import Lasso,Ridge, LinearRegression\n",
    "from sklearn.tree import DecisionTreeRegressor\n",
    "from sklearn.svm import SVR\n",
    "from sklearn.kernel_ridge import KernelRidge\n",
    "from sklearn.ensemble import AdaBoostRegressor,RandomForestRegressor, GradientBoostingRegressor\n",
    "from sklearn.neighbors import KNeighborsRegressor\n",
    "\n",
    "dummy_reg = DummyRegressor(strategy=\"median\")\n",
    "lasso = Lasso(random_state=42)\n",
    "ridge = Ridge(random_state=42)\n",
    "dt_reg =  DecisionTreeRegressor(random_state=42)\n",
    "svm_reg = SVR()\n",
    "ridge_kernel = KernelRidge()\n",
    "adaboost = AdaBoostRegressor(random_state=42)\n",
    "rdmforest = RandomForestRegressor(random_state=42)\n",
    "gdboost = GradientBoostingRegressor(random_state=42)\n",
    "neigh = KNeighborsRegressor(n_neighbors=3)"
   ]
  },
  {
   "cell_type": "code",
   "execution_count": 58,
   "id": "302b4389",
   "metadata": {},
   "outputs": [
    {
     "data": {
      "text/html": [
       "<div>\n",
       "<style scoped>\n",
       "    .dataframe tbody tr th:only-of-type {\n",
       "        vertical-align: middle;\n",
       "    }\n",
       "\n",
       "    .dataframe tbody tr th {\n",
       "        vertical-align: top;\n",
       "    }\n",
       "\n",
       "    .dataframe thead th {\n",
       "        text-align: right;\n",
       "    }\n",
       "</style>\n",
       "<table border=\"1\" class=\"dataframe\">\n",
       "  <thead>\n",
       "    <tr style=\"text-align: right;\">\n",
       "      <th></th>\n",
       "      <th>Dummy Regressor</th>\n",
       "      <th>Lasso</th>\n",
       "      <th>Ridge</th>\n",
       "      <th>DecisionTree</th>\n",
       "      <th>SVM</th>\n",
       "      <th>Ridge Kernel</th>\n",
       "      <th>AdaBoost</th>\n",
       "      <th>Random Forest</th>\n",
       "      <th>GradientBoosting</th>\n",
       "      <th>KNN</th>\n",
       "    </tr>\n",
       "  </thead>\n",
       "  <tbody>\n",
       "    <tr>\n",
       "      <th>MAE</th>\n",
       "      <td>0.878000</td>\n",
       "      <td>0.886000</td>\n",
       "      <td>0.541000</td>\n",
       "      <td>0.562000</td>\n",
       "      <td>0.443000</td>\n",
       "      <td>0.540000</td>\n",
       "      <td>0.542000</td>\n",
       "      <td>0.435000</td>\n",
       "      <td>0.448000</td>\n",
       "      <td>0.52100</td>\n",
       "    </tr>\n",
       "    <tr>\n",
       "      <th>MSE</th>\n",
       "      <td>1.237000</td>\n",
       "      <td>1.234000</td>\n",
       "      <td>0.643000</td>\n",
       "      <td>0.567000</td>\n",
       "      <td>0.371000</td>\n",
       "      <td>0.630000</td>\n",
       "      <td>0.438000</td>\n",
       "      <td>0.326000</td>\n",
       "      <td>0.353000</td>\n",
       "      <td>0.48500</td>\n",
       "    </tr>\n",
       "    <tr>\n",
       "      <th>RMSE</th>\n",
       "      <td>1.112000</td>\n",
       "      <td>1.111000</td>\n",
       "      <td>0.802000</td>\n",
       "      <td>0.753000</td>\n",
       "      <td>0.609000</td>\n",
       "      <td>0.794000</td>\n",
       "      <td>0.661000</td>\n",
       "      <td>0.571000</td>\n",
       "      <td>0.595000</td>\n",
       "      <td>0.69700</td>\n",
       "    </tr>\n",
       "    <tr>\n",
       "      <th>R²</th>\n",
       "      <td>-0.003000</td>\n",
       "      <td>-0.000000</td>\n",
       "      <td>0.479000</td>\n",
       "      <td>0.540000</td>\n",
       "      <td>0.699000</td>\n",
       "      <td>0.489000</td>\n",
       "      <td>0.645000</td>\n",
       "      <td>0.735000</td>\n",
       "      <td>0.713000</td>\n",
       "      <td>0.60600</td>\n",
       "    </tr>\n",
       "    <tr>\n",
       "      <th>time</th>\n",
       "      <td>0.000069</td>\n",
       "      <td>0.000362</td>\n",
       "      <td>0.000585</td>\n",
       "      <td>0.000449</td>\n",
       "      <td>0.052413</td>\n",
       "      <td>0.002466</td>\n",
       "      <td>0.006904</td>\n",
       "      <td>0.013172</td>\n",
       "      <td>0.000695</td>\n",
       "      <td>0.00463</td>\n",
       "    </tr>\n",
       "  </tbody>\n",
       "</table>\n",
       "</div>"
      ],
      "text/plain": [
       "      Dummy Regressor     Lasso     Ridge  DecisionTree       SVM  \\\n",
       "MAE          0.878000  0.886000  0.541000      0.562000  0.443000   \n",
       "MSE          1.237000  1.234000  0.643000      0.567000  0.371000   \n",
       "RMSE         1.112000  1.111000  0.802000      0.753000  0.609000   \n",
       "R²          -0.003000 -0.000000  0.479000      0.540000  0.699000   \n",
       "time         0.000069  0.000362  0.000585      0.000449  0.052413   \n",
       "\n",
       "      Ridge Kernel  AdaBoost  Random Forest  GradientBoosting      KNN  \n",
       "MAE       0.540000  0.542000       0.435000          0.448000  0.52100  \n",
       "MSE       0.630000  0.438000       0.326000          0.353000  0.48500  \n",
       "RMSE      0.794000  0.661000       0.571000          0.595000  0.69700  \n",
       "R²        0.489000  0.645000       0.735000          0.713000  0.60600  \n",
       "time      0.002466  0.006904       0.013172          0.000695  0.00463  "
      ]
     },
     "execution_count": 58,
     "metadata": {},
     "output_type": "execute_result"
    }
   ],
   "source": [
    "#Les modèles sans paramètre spécifique\n",
    "# MAE, MSE, RMSE, R²\n",
    "model = [dummy_reg, lasso, ridge,  dt_reg, svm_reg, ridge_kernel, adaboost, rdmforest, gdboost,  neigh]\n",
    "dict_model = {}\n",
    "\n",
    "for model in model:\n",
    "    model.fit(X_train, Y_train)\n",
    "    start_time = timeit.default_timer()\n",
    "    Y_pred = model.predict(X_test)\n",
    "    time = timeit.default_timer() - start_time\n",
    "    mae = mean_absolute_error(Y_test, Y_pred)\n",
    "    mse = mean_squared_error(Y_test, Y_pred)\n",
    "    rmse = np.sqrt(mse)\n",
    "    r_score = r2_score(Y_test, Y_pred, multioutput=\"variance_weighted\").round(3)\n",
    "    dict_model[model] = (mae.round(3), mse.round(3), rmse.round(3), r_score, time)\n",
    "\n",
    "results = pd.DataFrame(dict_model, index=[\"MAE\", \"MSE\", \"RMSE\", \"R²\",\"time\"])\n",
    "results.columns = [\"Dummy Regressor\", \"Lasso\", \"Ridge\", \"DecisionTree\", \"SVM\", \"Ridge Kernel\",\n",
    "                      \"AdaBoost\",\"Random Forest\", \"GradientBoosting\", \"KNN\"]\n",
    "\n",
    "results"
   ]
  },
  {
   "cell_type": "code",
   "execution_count": 30,
   "id": "9e70f7e7",
   "metadata": {},
   "outputs": [],
   "source": [
    "from sklearn.preprocessing import FunctionTransformer\n",
    "exptransformer = preprocessing.FunctionTransformer(np.expm1, inverse_func = np.log1p, check_inverse = True)\n",
    "y_pred_dumMedexp = exptransformer.transform(Y_pred)\n",
    "Y_testexp = exptransformer.transform(Y_test)"
   ]
  },
  {
   "cell_type": "code",
   "execution_count": 31,
   "id": "d60fac91",
   "metadata": {},
   "outputs": [],
   "source": [
    "df=pd.DataFrame(y_pred_dumMedexp,columns=['predic'])"
   ]
  },
  {
   "cell_type": "code",
   "execution_count": 56,
   "id": "08d5497a",
   "metadata": {},
   "outputs": [
    {
     "data": {
      "text/plain": [
       "Text(0, 0.5, 'Les valeurs estimées')"
      ]
     },
     "execution_count": 56,
     "metadata": {},
     "output_type": "execute_result"
    },
    {
     "data": {
      "image/png": "[encoded data removed]",
      "text/plain": [
       "<Figure size 576x576 with 1 Axes>"
      ]
     },
     "metadata": {
      "needs_background": "light"
     },
     "output_type": "display_data"
    }
   ],
   "source": [
    "plt.figure(figsize=(8,8))\n",
    "sns.lineplot(x = [0,1.5e7], y = [0,1.5e7], alpha=0.5)\n",
    "sns.scatterplot(Y_testexp[\"SiteEnergyUseWN(kBtu)_log\"],df[\"predic\"])\n",
    "plt.title('Consommation de l\\'énergie prédite avec l\\'algorithme Dummy \"Median Strategy\" versus la consommation WN',y=1.05)\n",
    "plt.xlabel('Valeurs de test')\n",
    "plt.ylabel('Les valeurs estimées')"
   ]
  },
  {
   "cell_type": "markdown",
   "id": "ad038232",
   "metadata": {},
   "source": [
    "## Recherche le meilleur modèle"
   ]
  },
  {
   "cell_type": "markdown",
   "id": "c86648e3",
   "metadata": {},
   "source": [
    "On va etudier les modeles linears ; dummyregressor,LinearRegressor, Lasso, Ridge, ElasticNet, KNNRegressor,\n",
    "SVR,DecisionTreeRegressor, RandomForestRegressor, GradientBoosting, AdaBoost"
   ]
  },
  {
   "cell_type": "markdown",
   "id": "29acb378",
   "metadata": {},
   "source": [
    "### KNN\n"
   ]
  },
  {
   "cell_type": "code",
   "execution_count": 33,
   "id": "751bcfed",
   "metadata": {},
   "outputs": [
    {
     "name": "stdout",
     "output_type": "stream",
     "text": [
      "time 0.01s\n"
     ]
    }
   ],
   "source": [
    "from sklearn import neighbors\n",
    "from sklearn.neighbors import KNeighborsRegressor\n",
    "\n",
    "X_test = preprocessor.transform(X_test)\n",
    "X_train = preprocessor.fit_transform(X_train)\n",
    "\n",
    "knn = KNeighborsRegressor(n_neighbors=3)\n",
    "start_time = timeit.default_timer()\n",
    "knn.fit(X_train, Y_train)\n",
    "\n",
    "Y_predknn = knn.predict(X_test)\n",
    "elapsedknn = timeit.default_timer() - start_time\n",
    "Y_predknnExp = exptransformer.transform(Y_predknn)\n",
    "\n",
    "print(\"time {:.2f}s\".format(elapsedknn))"
   ]
  },
  {
   "cell_type": "code",
   "execution_count": 34,
   "id": "0f3d12b6",
   "metadata": {},
   "outputs": [
    {
     "name": "stdout",
     "output_type": "stream",
     "text": [
      "MAE KNN: 0.52\n",
      "MSE KNN: 0.49\n",
      "RMSE KNN: 0.70\n",
      "R SCORE KNN: 0.61\n"
     ]
    }
   ],
   "source": [
    "mae_knn = mean_absolute_error(Y_test, Y_predknn)\n",
    "mse_knn = mean_squared_error(Y_test, Y_predknn)\n",
    "rmse_knn = np.sqrt(mse_knn)\n",
    "r_score_knn = r2_score(Y_test, Y_predknn, multioutput=\"variance_weighted\").round(3)\n",
    "\n",
    "print(\"MAE KNN: {:.2f}\".format(mae_knn))\n",
    "print(\"MSE KNN: {:.2f}\".format(mse_knn))\n",
    "print(\"RMSE KNN: {:.2f}\".format(rmse_knn))\n",
    "print(\"R SCORE KNN: {:.2f}\".format(r_score_knn))"
   ]
  },
  {
   "cell_type": "code",
   "execution_count": 35,
   "id": "572974a7",
   "metadata": {},
   "outputs": [],
   "source": [
    "energy_knn=pd.DataFrame(Y_predknnExp,columns=['predic'])"
   ]
  },
  {
   "cell_type": "code",
   "execution_count": 36,
   "id": "bad95570",
   "metadata": {},
   "outputs": [
    {
     "data": {
      "text/plain": [
       "Text(0, 0.5, 'Les valeurs estimées')"
      ]
     },
     "execution_count": 36,
     "metadata": {},
     "output_type": "execute_result"
    },
    {
     "data": {
      "image/png": "[encoded data removed]",
      "text/plain": [
       "<Figure size 576x576 with 1 Axes>"
      ]
     },
     "metadata": {
      "needs_background": "light"
     },
     "output_type": "display_data"
    }
   ],
   "source": [
    "plt.figure(figsize=(8,8))\n",
    "sns.lineplot(x = [0,1e8], y = [0,1e8], alpha=0.5)\n",
    "sns.scatterplot(Y_testexp[\"SiteEnergyUseWN(kBtu)_log\"],energy_knn[\"predic\"])\n",
    "plt.title('Consommation de l\\'énergie prédite avec l\\'algorithme KNN versus la consommation WN',y=1.05)\n",
    "plt.xlabel('Valeurs de test')\n",
    "plt.ylabel('Les valeurs estimées')"
   ]
  },
  {
   "cell_type": "markdown",
   "id": "78cf824d",
   "metadata": {},
   "source": [
    "## Lasso"
   ]
  },
  {
   "cell_type": "code",
   "execution_count": 37,
   "id": "324d6264",
   "metadata": {},
   "outputs": [
    {
     "name": "stdout",
     "output_type": "stream",
     "text": [
      "MAE LASSO: 0.662\n",
      "MSE LASSO: 0.734\n",
      "RMSE LASSO: 0.857\n",
      "R2 SCORE LASSO: 0.405\n"
     ]
    }
   ],
   "source": [
    "from sklearn.linear_model import Lasso\n",
    "\n",
    "lasso = Lasso(alpha=0.1).fit(X_train, Y_train)\n",
    "start_time = timeit.default_timer()\n",
    "\n",
    "YpredLasso = lasso.predict(X_test)\n",
    "elapsedLasso = timeit.default_timer() - start_time\n",
    "\n",
    "meanErrorLasso = mean_absolute_error(Y_test, YpredLasso).round(3)\n",
    "medianErrorLasso = mean_squared_error(Y_test, YpredLasso).round(3)\n",
    "rmseLasso = np.sqrt(medianErrorLasso).round(3)\n",
    "r2score = r2_score(Y_test,YpredLasso).round(3)\n",
    "\n",
    "\n",
    "print(\"MAE LASSO: {}\".format(meanErrorLasso))\n",
    "print(\"MSE LASSO: {}\".format(medianErrorLasso))\n",
    "print(\"RMSE LASSO: {}\".format(rmseLasso))\n",
    "print(\"R2 SCORE LASSO: {}\".format(r2score))"
   ]
  },
  {
   "cell_type": "code",
   "execution_count": 38,
   "id": "fa875836",
   "metadata": {},
   "outputs": [],
   "source": [
    "df_lasso=pd.DataFrame(np.exp(YpredLasso),columns=['predic'])"
   ]
  },
  {
   "cell_type": "code",
   "execution_count": 39,
   "id": "7c663774",
   "metadata": {},
   "outputs": [
    {
     "data": {
      "text/plain": [
       "Text(0, 0.5, 'Les valeurs estimées')"
      ]
     },
     "execution_count": 39,
     "metadata": {},
     "output_type": "execute_result"
    },
    {
     "data": {
      "image/png": "[encoded data removed]",
      "text/plain": [
       "<Figure size 576x576 with 1 Axes>"
      ]
     },
     "metadata": {
      "needs_background": "light"
     },
     "output_type": "display_data"
    }
   ],
   "source": [
    "plt.figure(figsize=(8,8))\n",
    "sns.lineplot(x = [0,1.5e8], y = [0,1.5e8], alpha=0.5)\n",
    "sns.scatterplot(Y_testexp[\"SiteEnergyUseWN(kBtu)_log\"], df_lasso['predic'])\n",
    "plt.title('Comparaison de la consommation de l\\'énergie prédite avec l\\'algorithme Regression Ridge versus la consommation WN', y=1.05)\n",
    "plt.xlabel('Valeurs de test')\n",
    "plt.ylabel('Les valeurs estimées')"
   ]
  },
  {
   "cell_type": "markdown",
   "id": "a5d7d13b",
   "metadata": {},
   "source": [
    "### Régression Ridge"
   ]
  },
  {
   "cell_type": "code",
   "execution_count": 40,
   "id": "9b1ea936",
   "metadata": {},
   "outputs": [
    {
     "name": "stdout",
     "output_type": "stream",
     "text": [
      "MAE Ridge: 0.543\n",
      "MSE Ridge: 0.646\n",
      "RMSE Ridge: 0.804\n",
      "R2 SCORE Ridge est: 0.477\n"
     ]
    }
   ],
   "source": [
    "from sklearn.linear_model import Ridge\n",
    "ridge = Ridge(alpha=0.1).fit(X_train, Y_train)\n",
    "\n",
    "start_time = timeit.default_timer()\n",
    "ridge.fit(X_train, Y_train)\n",
    "\n",
    "YpredRidge = ridge.predict(X_test)\n",
    "elapsedRidge = timeit.default_timer() - start_time\n",
    "\n",
    "meanErrorRidge = mean_absolute_error(Y_test, YpredRidge).round(3)\n",
    "medianErrorRidge = mean_squared_error(Y_test, YpredRidge).round(3)\n",
    "rmseRidge = np.sqrt(medianErrorRidge).round(3)\n",
    "r2score = r2_score(Y_test,YpredRidge).round(3)\n",
    "\n",
    "print(\"MAE Ridge: {}\".format(meanErrorRidge))\n",
    "print(\"MSE Ridge: {}\".format(medianErrorRidge))\n",
    "print(\"RMSE Ridge: {}\".format(rmseRidge))\n",
    "print(\"R2 SCORE Ridge est: {}\".format(r2score))"
   ]
  },
  {
   "cell_type": "code",
   "execution_count": 41,
   "id": "9d376b29",
   "metadata": {},
   "outputs": [],
   "source": [
    "df_ridge=pd.DataFrame(np.exp(YpredRidge),columns=['predic'])"
   ]
  },
  {
   "cell_type": "code",
   "execution_count": 42,
   "id": "56766528",
   "metadata": {},
   "outputs": [
    {
     "data": {
      "text/plain": [
       "Text(0, 0.5, 'Les valeurs estimées')"
      ]
     },
     "execution_count": 42,
     "metadata": {},
     "output_type": "execute_result"
    },
    {
     "data": {
      "image/png": "[encoded data removed]",
      "text/plain": [
       "<Figure size 576x576 with 1 Axes>"
      ]
     },
     "metadata": {
      "needs_background": "light"
     },
     "output_type": "display_data"
    }
   ],
   "source": [
    "plt.figure(figsize=(8,8))\n",
    "sns.lineplot(x = [0,1.5e8], y = [0,1.5e8], alpha=0.5)\n",
    "sns.scatterplot(Y_testexp[\"SiteEnergyUseWN(kBtu)_log\"], df_ridge['predic'])\n",
    "plt.title('Comparaison de la consommation de l\\'énergie prédite avec l\\'algorithme Regression Ridge versus la consommation WN', y=1.05)\n",
    "plt.xlabel('Valeurs de test')\n",
    "plt.ylabel('Les valeurs estimées')"
   ]
  },
  {
   "cell_type": "markdown",
   "id": "3b9721ca",
   "metadata": {},
   "source": [
    "### DecisionTreeRegressor"
   ]
  },
  {
   "cell_type": "code",
   "execution_count": 43,
   "id": "4ae0a209",
   "metadata": {},
   "outputs": [
    {
     "name": "stdout",
     "output_type": "stream",
     "text": [
      "MAE Ridge: 0.562\n",
      "MSE Ridge: 0.567\n",
      "RMSE Ridge: 0.753\n",
      "R2 SCORE Ridge est: 0.54\n"
     ]
    }
   ],
   "source": [
    "from sklearn.tree import DecisionTreeRegressor\n",
    "\n",
    "dt_reg =  DecisionTreeRegressor(random_state=42)\n",
    "start_time = timeit.default_timer()\n",
    "dt_reg.fit(X_train, Y_train)\n",
    "\n",
    "YpredDecisionTreeRegressor = dt_reg.predict(X_test)\n",
    "elapsedDecisionTreeRegressor= timeit.default_timer() - start_time\n",
    "\n",
    "meanErrorDecisionTreeRegressor = mean_absolute_error(Y_test, YpredDecisionTreeRegressor).round(3)\n",
    "medianErrorDecisionTreeRegressor = mean_squared_error(Y_test, YpredDecisionTreeRegressor).round(3)\n",
    "rmseDecisionTreeRegressor = np.sqrt(medianErrorDecisionTreeRegressor).round(3)\n",
    "r2score = r2_score(Y_test,YpredDecisionTreeRegressor).round(3)\n",
    "\n",
    "print(\"MAE Ridge: {}\".format(meanErrorDecisionTreeRegressor))\n",
    "print(\"MSE Ridge: {}\".format(medianErrorDecisionTreeRegressor))\n",
    "print(\"RMSE Ridge: {}\".format(rmseDecisionTreeRegressor))\n",
    "print(\"R2 SCORE Ridge est: {}\".format(r2score))\n",
    "\n"
   ]
  },
  {
   "cell_type": "code",
   "execution_count": 44,
   "id": "6e5721c7",
   "metadata": {},
   "outputs": [],
   "source": [
    "df_dt_reg=pd.DataFrame(np.exp(YpredDecisionTreeRegressor),columns=['predic'])"
   ]
  },
  {
   "cell_type": "code",
   "execution_count": 45,
   "id": "17dc2c77",
   "metadata": {},
   "outputs": [
    {
     "data": {
      "text/plain": [
       "Text(0, 0.5, 'Les valeurs estimées')"
      ]
     },
     "execution_count": 45,
     "metadata": {},
     "output_type": "execute_result"
    },
    {
     "data": {
      "image/png": "[encoded data removed]",
      "text/plain": [
       "<Figure size 576x576 with 1 Axes>"
      ]
     },
     "metadata": {
      "needs_background": "light"
     },
     "output_type": "display_data"
    }
   ],
   "source": [
    "plt.figure(figsize=(8,8))\n",
    "sns.lineplot(x = [0,1.5e8], y = [0,1.5e8], alpha=0.5)\n",
    "sns.scatterplot(Y_testexp[\"SiteEnergyUseWN(kBtu)_log\"], df_dt_reg['predic'])\n",
    "plt.title('Comparaison de la consommation de l\\'énergie prédite avec l\\'algorithme Regression Ridge versus la consommation WN', y=1.05)\n",
    "plt.xlabel('Valeurs de test')\n",
    "plt.ylabel('Les valeurs estimées')"
   ]
  },
  {
   "cell_type": "markdown",
   "id": "e887ccf9",
   "metadata": {},
   "source": [
    "La on vas créer une boucle qui parcours tous les modèles du dictionnaire et qui enregistre les résultats dans une dataframe en utilisant une cross validation. Et de cette façon, le processus sera plus facile.\n",
    "\n"
   ]
  },
  {
   "cell_type": "code",
   "execution_count": 46,
   "id": "29f60616",
   "metadata": {},
   "outputs": [],
   "source": [
    "# examiner différents modèles de régression\n",
    "from sklearn.dummy import DummyRegressor\n",
    "from sklearn.linear_model import Lasso,Ridge, LinearRegression\n",
    "from sklearn.tree import DecisionTreeRegressor\n",
    "from sklearn.svm import SVR\n",
    "from sklearn.kernel_ridge import KernelRidge\n",
    "from sklearn.ensemble import AdaBoostRegressor,RandomForestRegressor, GradientBoostingRegressor\n",
    "from sklearn.neighbors import KNeighborsRegressor\n",
    "\n",
    "dummy_reg = DummyRegressor(strategy=\"median\")\n",
    "lasso = Lasso(random_state=42)\n",
    "ridge = Ridge(random_state=42)\n",
    "dt_reg =  DecisionTreeRegressor(random_state=42)\n",
    "svm_reg = SVR()\n",
    "ridge_kernel = KernelRidge()\n",
    "adaboost = AdaBoostRegressor(random_state=42)\n",
    "rdmforest = RandomForestRegressor(random_state=42)\n",
    "gdboost = GradientBoostingRegressor(random_state=42)\n",
    "neigh = KNeighborsRegressor(n_neighbors=3)"
   ]
  },
  {
   "cell_type": "code",
   "execution_count": 47,
   "id": "2f9f8b8f",
   "metadata": {},
   "outputs": [
    {
     "data": {
      "text/html": [
       "<div>\n",
       "<style scoped>\n",
       "    .dataframe tbody tr th:only-of-type {\n",
       "        vertical-align: middle;\n",
       "    }\n",
       "\n",
       "    .dataframe tbody tr th {\n",
       "        vertical-align: top;\n",
       "    }\n",
       "\n",
       "    .dataframe thead th {\n",
       "        text-align: right;\n",
       "    }\n",
       "</style>\n",
       "<table border=\"1\" class=\"dataframe\">\n",
       "  <thead>\n",
       "    <tr style=\"text-align: right;\">\n",
       "      <th></th>\n",
       "      <th>Dummy Regressor</th>\n",
       "      <th>Lasso</th>\n",
       "      <th>Ridge</th>\n",
       "      <th>DecisionTree</th>\n",
       "      <th>SVM</th>\n",
       "      <th>Ridge Kernel</th>\n",
       "      <th>AdaBoost</th>\n",
       "      <th>Random Forest</th>\n",
       "      <th>GradientBoosting</th>\n",
       "      <th>KNN</th>\n",
       "    </tr>\n",
       "  </thead>\n",
       "  <tbody>\n",
       "    <tr>\n",
       "      <th>MAE</th>\n",
       "      <td>0.878000</td>\n",
       "      <td>0.886000</td>\n",
       "      <td>0.541000</td>\n",
       "      <td>0.562000</td>\n",
       "      <td>0.443000</td>\n",
       "      <td>0.540000</td>\n",
       "      <td>0.542000</td>\n",
       "      <td>0.435000</td>\n",
       "      <td>0.448000</td>\n",
       "      <td>0.521000</td>\n",
       "    </tr>\n",
       "    <tr>\n",
       "      <th>MSE</th>\n",
       "      <td>1.237000</td>\n",
       "      <td>1.234000</td>\n",
       "      <td>0.643000</td>\n",
       "      <td>0.567000</td>\n",
       "      <td>0.371000</td>\n",
       "      <td>0.630000</td>\n",
       "      <td>0.438000</td>\n",
       "      <td>0.326000</td>\n",
       "      <td>0.353000</td>\n",
       "      <td>0.485000</td>\n",
       "    </tr>\n",
       "    <tr>\n",
       "      <th>RMSE</th>\n",
       "      <td>1.112000</td>\n",
       "      <td>1.111000</td>\n",
       "      <td>0.802000</td>\n",
       "      <td>0.753000</td>\n",
       "      <td>0.609000</td>\n",
       "      <td>0.794000</td>\n",
       "      <td>0.661000</td>\n",
       "      <td>0.571000</td>\n",
       "      <td>0.595000</td>\n",
       "      <td>0.697000</td>\n",
       "    </tr>\n",
       "    <tr>\n",
       "      <th>R²</th>\n",
       "      <td>-0.003000</td>\n",
       "      <td>-0.000000</td>\n",
       "      <td>0.479000</td>\n",
       "      <td>0.540000</td>\n",
       "      <td>0.699000</td>\n",
       "      <td>0.489000</td>\n",
       "      <td>0.645000</td>\n",
       "      <td>0.735000</td>\n",
       "      <td>0.713000</td>\n",
       "      <td>0.606000</td>\n",
       "    </tr>\n",
       "    <tr>\n",
       "      <th>time</th>\n",
       "      <td>0.000044</td>\n",
       "      <td>0.001099</td>\n",
       "      <td>0.000295</td>\n",
       "      <td>0.000366</td>\n",
       "      <td>0.041353</td>\n",
       "      <td>0.002813</td>\n",
       "      <td>0.007345</td>\n",
       "      <td>0.013176</td>\n",
       "      <td>0.000701</td>\n",
       "      <td>0.004401</td>\n",
       "    </tr>\n",
       "  </tbody>\n",
       "</table>\n",
       "</div>"
      ],
      "text/plain": [
       "      Dummy Regressor     Lasso     Ridge  DecisionTree       SVM  \\\n",
       "MAE          0.878000  0.886000  0.541000      0.562000  0.443000   \n",
       "MSE          1.237000  1.234000  0.643000      0.567000  0.371000   \n",
       "RMSE         1.112000  1.111000  0.802000      0.753000  0.609000   \n",
       "R²          -0.003000 -0.000000  0.479000      0.540000  0.699000   \n",
       "time         0.000044  0.001099  0.000295      0.000366  0.041353   \n",
       "\n",
       "      Ridge Kernel  AdaBoost  Random Forest  GradientBoosting       KNN  \n",
       "MAE       0.540000  0.542000       0.435000          0.448000  0.521000  \n",
       "MSE       0.630000  0.438000       0.326000          0.353000  0.485000  \n",
       "RMSE      0.794000  0.661000       0.571000          0.595000  0.697000  \n",
       "R²        0.489000  0.645000       0.735000          0.713000  0.606000  \n",
       "time      0.002813  0.007345       0.013176          0.000701  0.004401  "
      ]
     },
     "execution_count": 47,
     "metadata": {},
     "output_type": "execute_result"
    }
   ],
   "source": [
    "#Les modèles sans paramètre spécifique\n",
    "#MAE, MSE, RMSE, R²\n",
    "model = [dummy_reg, lasso, ridge,  dt_reg, svm_reg, ridge_kernel, adaboost, rdmforest, gdboost,  neigh]\n",
    "dict_model = {}\n",
    "\n",
    "for model in model:\n",
    "    model.fit(X_train, Y_train)\n",
    "    start_time = timeit.default_timer()\n",
    "    Y_pred = model.predict(X_test)\n",
    "    time = timeit.default_timer() - start_time\n",
    "    mae = mean_absolute_error(Y_test, Y_pred)\n",
    "    mse = mean_squared_error(Y_test, Y_pred)\n",
    "    rmse = np.sqrt(mse)\n",
    "    r_score = r2_score(Y_test, Y_pred, multioutput=\"variance_weighted\").round(3)\n",
    "    dict_model[model] = (mae.round(3), mse.round(3), rmse.round(3), r_score, time)\n",
    "\n",
    "results = pd.DataFrame(dict_model, index=[\"MAE\", \"MSE\", \"RMSE\", \"R²\",\"time\"])\n",
    "results.columns = [\"Dummy Regressor\", \"Lasso\", \"Ridge\", \"DecisionTree\", \"SVM\", \"Ridge Kernel\",\n",
    "                      \"AdaBoost\",\"Random Forest\", \"GradientBoosting\", \"KNN\"]\n",
    "\n",
    "results"
   ]
  },
  {
   "cell_type": "code",
   "execution_count": 48,
   "id": "450988d4",
   "metadata": {},
   "outputs": [],
   "source": [
    "results_t=results.transpose()"
   ]
  },
  {
   "cell_type": "code",
   "execution_count": 49,
   "id": "fc17da3b",
   "metadata": {},
   "outputs": [],
   "source": [
    "results_t.reset_index(inplace=True)"
   ]
  },
  {
   "cell_type": "code",
   "execution_count": 50,
   "id": "db428a34",
   "metadata": {},
   "outputs": [],
   "source": [
    "results_t.rename(columns={\"index\": \"Nom de Model\"},inplace=True)"
   ]
  },
  {
   "cell_type": "code",
   "execution_count": 51,
   "id": "a6a761c0",
   "metadata": {},
   "outputs": [
    {
     "data": {
      "image/png": "[encoded data removed]",
      "text/plain": [
       "<Figure size 720x360 with 1 Axes>"
      ]
     },
     "metadata": {
      "needs_background": "light"
     },
     "output_type": "display_data"
    }
   ],
   "source": [
    "plt.figure(figsize=(10,5))\n",
    "plt.title('Comparaison des MAE des modèles')\n",
    "ax = sns.barplot(x = results_t['Nom de Model'], y = results_t['MAE'])\n",
    "ax.set_xticklabels(labels = results_t['Nom de Model'], rotation=45, horizontalalignment='right',size=14)\n",
    "plt.show()"
   ]
  },
  {
   "cell_type": "code",
   "execution_count": 52,
   "id": "785e5c69",
   "metadata": {},
   "outputs": [
    {
     "data": {
      "image/png": "[encoded data removed]",
      "text/plain": [
       "<Figure size 720x360 with 1 Axes>"
      ]
     },
     "metadata": {
      "needs_background": "light"
     },
     "output_type": "display_data"
    }
   ],
   "source": [
    "plt.figure(figsize=(10,5))\n",
    "plt.title('Comparaison des RMSE des modèles')\n",
    "ax = sns.barplot(x = results_t['Nom de Model'], y = results_t['RMSE'])\n",
    "ax.set_xticklabels(labels = results_t['Nom de Model'], rotation=45, horizontalalignment='right',size=14)\n",
    "plt.show()"
   ]
  },
  {
   "cell_type": "code",
   "execution_count": 53,
   "id": "ab5608a3",
   "metadata": {},
   "outputs": [
    {
     "data": {
      "image/png": "[encoded data removed]",
      "text/plain": [
       "<Figure size 720x360 with 1 Axes>"
      ]
     },
     "metadata": {
      "needs_background": "light"
     },
     "output_type": "display_data"
    }
   ],
   "source": [
    "plt.figure(figsize=(10,5))\n",
    "plt.title('Comparaison des MSE des modèles')\n",
    "ax = sns.barplot(x = results_t['Nom de Model'], y = results_t['MSE'])\n",
    "ax.set_xticklabels(labels = results_t['Nom de Model'], rotation=45, horizontalalignment='right',size=14)\n",
    "plt.show()"
   ]
  },
  {
   "cell_type": "code",
   "execution_count": 54,
   "id": "ffab0fb1",
   "metadata": {},
   "outputs": [
    {
     "data": {
      "image/png": "[encoded data removed]",
      "text/plain": [
       "<Figure size 720x360 with 1 Axes>"
      ]
     },
     "metadata": {
      "needs_background": "light"
     },
     "output_type": "display_data"
    }
   ],
   "source": [
    "plt.figure(figsize=(10,5))\n",
    "plt.title('Comparaison des R2 des modèles')\n",
    "ax = sns.barplot(x = results_t['Nom de Model'], y = results_t['R²'])\n",
    "ax.set_xticklabels(labels = results_t['Nom de Model'], rotation=45, horizontalalignment='right',size=14)\n",
    "plt.show()"
   ]
  },
  {
   "cell_type": "code",
   "execution_count": 55,
   "id": "d1e30d69",
   "metadata": {},
   "outputs": [
    {
     "data": {
      "image/png": "[encoded data removed]",
      "text/plain": [
       "<Figure size 720x360 with 1 Axes>"
      ]
     },
     "metadata": {
      "needs_background": "light"
     },
     "output_type": "display_data"
    }
   ],
   "source": [
    "plt.figure(figsize=(10,5))\n",
    "plt.title('Comparaison des time des modèles')\n",
    "ax = sns.barplot(x = results_t['Nom de Model'], y = results_t['time'])\n",
    "ax.set_xticklabels(labels = results_t['Nom de Model'], rotation=45, horizontalalignment='right',size=14)\n",
    "plt.show()"
   ]
  },
  {
   "cell_type": "markdown",
   "id": "d4a4cd18",
   "metadata": {},
   "source": [
    "On voit que la valeur R2 de l'algorithme Random Forest et GradientBoosting sont tres élevée, mais quand on regarde le temps d'exécution, pour Random Forest cette valeur est aussi très longue. On va examiner GradientBoosting et Random forest, aussi on va examiner ces deux algorithmes en optimisant les paramètres pour une meilleure compréhension."
   ]
  },
  {
   "cell_type": "markdown",
   "id": "6dd08455",
   "metadata": {},
   "source": [
    "## Recherche des  meilleurs hyperparamètres et des models"
   ]
  },
  {
   "cell_type": "markdown",
   "id": "6fb06966",
   "metadata": {},
   "source": [
    "### GradientBoosting Regressor"
   ]
  },
  {
   "cell_type": "code",
   "execution_count": 59,
   "id": "748ab33e",
   "metadata": {},
   "outputs": [
    {
     "data": {
      "text/html": [
       "<style>#sk-container-id-3 {color: black;background-color: white;}#sk-container-id-3 pre{padding: 0;}#sk-container-id-3 div.sk-toggleable {background-color: white;}#sk-container-id-3 label.sk-toggleable__label {cursor: pointer;display: block;width: 100%;margin-bottom: 0;padding: 0.3em;box-sizing: border-box;text-align: center;}#sk-container-id-3 label.sk-toggleable__label-arrow:before {content: \"▸\";float: left;margin-right: 0.25em;color: #696969;}#sk-container-id-3 label.sk-toggleable__label-arrow:hover:before {color: black;}#sk-container-id-3 div.sk-estimator:hover label.sk-toggleable__label-arrow:before {color: black;}#sk-container-id-3 div.sk-toggleable__content {max-height: 0;max-width: 0;overflow: hidden;text-align: left;background-color: #f0f8ff;}#sk-container-id-3 div.sk-toggleable__content pre {margin: 0.2em;color: black;border-radius: 0.25em;background-color: #f0f8ff;}#sk-container-id-3 input.sk-toggleable__control:checked~div.sk-toggleable__content {max-height: 200px;max-width: 100%;overflow: auto;}#sk-container-id-3 input.sk-toggleable__control:checked~label.sk-toggleable__label-arrow:before {content: \"▾\";}#sk-container-id-3 div.sk-estimator input.sk-toggleable__control:checked~label.sk-toggleable__label {background-color: #d4ebff;}#sk-container-id-3 div.sk-label input.sk-toggleable__control:checked~label.sk-toggleable__label {background-color: #d4ebff;}#sk-container-id-3 input.sk-hidden--visually {border: 0;clip: rect(1px 1px 1px 1px);clip: rect(1px, 1px, 1px, 1px);height: 1px;margin: -1px;overflow: hidden;padding: 0;position: absolute;width: 1px;}#sk-container-id-3 div.sk-estimator {font-family: monospace;background-color: #f0f8ff;border: 1px dotted black;border-radius: 0.25em;box-sizing: border-box;margin-bottom: 0.5em;}#sk-container-id-3 div.sk-estimator:hover {background-color: #d4ebff;}#sk-container-id-3 div.sk-parallel-item::after {content: \"\";width: 100%;border-bottom: 1px solid gray;flex-grow: 1;}#sk-container-id-3 div.sk-label:hover label.sk-toggleable__label {background-color: #d4ebff;}#sk-container-id-3 div.sk-serial::before {content: \"\";position: absolute;border-left: 1px solid gray;box-sizing: border-box;top: 0;bottom: 0;left: 50%;z-index: 0;}#sk-container-id-3 div.sk-serial {display: flex;flex-direction: column;align-items: center;background-color: white;padding-right: 0.2em;padding-left: 0.2em;position: relative;}#sk-container-id-3 div.sk-item {position: relative;z-index: 1;}#sk-container-id-3 div.sk-parallel {display: flex;align-items: stretch;justify-content: center;background-color: white;position: relative;}#sk-container-id-3 div.sk-item::before, #sk-container-id-3 div.sk-parallel-item::before {content: \"\";position: absolute;border-left: 1px solid gray;box-sizing: border-box;top: 0;bottom: 0;left: 50%;z-index: -1;}#sk-container-id-3 div.sk-parallel-item {display: flex;flex-direction: column;z-index: 1;position: relative;background-color: white;}#sk-container-id-3 div.sk-parallel-item:first-child::after {align-self: flex-end;width: 50%;}#sk-container-id-3 div.sk-parallel-item:last-child::after {align-self: flex-start;width: 50%;}#sk-container-id-3 div.sk-parallel-item:only-child::after {width: 0;}#sk-container-id-3 div.sk-dashed-wrapped {border: 1px dashed gray;margin: 0 0.4em 0.5em 0.4em;box-sizing: border-box;padding-bottom: 0.4em;background-color: white;}#sk-container-id-3 div.sk-label label {font-family: monospace;font-weight: bold;display: inline-block;line-height: 1.2em;}#sk-container-id-3 div.sk-label-container {text-align: center;}#sk-container-id-3 div.sk-container {/* jupyter's `normalize.less` sets `[hidden] { display: none; }` but bootstrap.min.css set `[hidden] { display: none !important; }` so we also need the `!important` here to be able to override the default hidden behavior on the sphinx rendered scikit-learn.org. See: https://github.com/scikit-learn/scikit-learn/issues/21755 */display: inline-block !important;position: relative;}#sk-container-id-3 div.sk-text-repr-fallback {display: none;}</style><div id=\"sk-container-id-3\" class=\"sk-top-container\"><div class=\"sk-text-repr-fallback\"><pre>GridSearchCV(cv=5, estimator=GradientBoostingRegressor(random_state=42),\n",
       "             n_jobs=2,\n",
       "             param_grid={&#x27;learning_rate&#x27;: [0.001, 0.01, 0.1, 0.2, 0, 3],\n",
       "                         &#x27;max_depth&#x27;: [6, 10, 15, 20],\n",
       "                         &#x27;max_leaf_nodes&#x27;: [2, 5, 10, 20, 50, 100],\n",
       "                         &#x27;n_estimators&#x27;: [1, 2, 5, 10, 20, 50, 100, 200, 500]},\n",
       "             scoring=&#x27;neg_mean_squared_error&#x27;)</pre><b>In a Jupyter environment, please rerun this cell to show the HTML representation or trust the notebook. <br />On GitHub, the HTML representation is unable to render, please try loading this page with nbviewer.org.</b></div><div class=\"sk-container\" hidden><div class=\"sk-item sk-dashed-wrapped\"><div class=\"sk-label-container\"><div class=\"sk-label sk-toggleable\"><input class=\"sk-toggleable__control sk-hidden--visually\" id=\"sk-estimator-id-3\" type=\"checkbox\" ><label for=\"sk-estimator-id-3\" class=\"sk-toggleable__label sk-toggleable__label-arrow\">GridSearchCV</label><div class=\"sk-toggleable__content\"><pre>GridSearchCV(cv=5, estimator=GradientBoostingRegressor(random_state=42),\n",
       "             n_jobs=2,\n",
       "             param_grid={&#x27;learning_rate&#x27;: [0.001, 0.01, 0.1, 0.2, 0, 3],\n",
       "                         &#x27;max_depth&#x27;: [6, 10, 15, 20],\n",
       "                         &#x27;max_leaf_nodes&#x27;: [2, 5, 10, 20, 50, 100],\n",
       "                         &#x27;n_estimators&#x27;: [1, 2, 5, 10, 20, 50, 100, 200, 500]},\n",
       "             scoring=&#x27;neg_mean_squared_error&#x27;)</pre></div></div></div><div class=\"sk-parallel\"><div class=\"sk-parallel-item\"><div class=\"sk-item\"><div class=\"sk-label-container\"><div class=\"sk-label sk-toggleable\"><input class=\"sk-toggleable__control sk-hidden--visually\" id=\"sk-estimator-id-4\" type=\"checkbox\" ><label for=\"sk-estimator-id-4\" class=\"sk-toggleable__label sk-toggleable__label-arrow\">estimator: GradientBoostingRegressor</label><div class=\"sk-toggleable__content\"><pre>GradientBoostingRegressor(random_state=42)</pre></div></div></div><div class=\"sk-serial\"><div class=\"sk-item\"><div class=\"sk-estimator sk-toggleable\"><input class=\"sk-toggleable__control sk-hidden--visually\" id=\"sk-estimator-id-5\" type=\"checkbox\" ><label for=\"sk-estimator-id-5\" class=\"sk-toggleable__label sk-toggleable__label-arrow\">GradientBoostingRegressor</label><div class=\"sk-toggleable__content\"><pre>GradientBoostingRegressor(random_state=42)</pre></div></div></div></div></div></div></div></div></div></div>"
      ],
      "text/plain": [
       "GridSearchCV(cv=5, estimator=GradientBoostingRegressor(random_state=42),\n",
       "             n_jobs=2,\n",
       "             param_grid={'learning_rate': [0.001, 0.01, 0.1, 0.2, 0, 3],\n",
       "                         'max_depth': [6, 10, 15, 20],\n",
       "                         'max_leaf_nodes': [2, 5, 10, 20, 50, 100],\n",
       "                         'n_estimators': [1, 2, 5, 10, 20, 50, 100, 200, 500]},\n",
       "             scoring='neg_mean_squared_error')"
      ]
     },
     "execution_count": 59,
     "metadata": {},
     "output_type": "execute_result"
    }
   ],
   "source": [
    "from scipy.stats import loguniform\n",
    "from sklearn.model_selection import GridSearchCV\n",
    "from sklearn.ensemble import GradientBoostingRegressor\n",
    "\n",
    "gb_params = {\"n_estimators\": [1, 2, 5, 10, 20, 50, 100, 200, 500],\n",
    "             \"max_leaf_nodes\": [2, 5, 10, 20, 50, 100],\n",
    "             \"learning_rate\" : [0.001, 0.01, 0.1, 0.2, 0,3],\n",
    "             \"max_depth\": [6, 10, 15, 20],\n",
    "             }\n",
    "\n",
    "gdboost = GradientBoostingRegressor(random_state=42)\n",
    "\n",
    "gb_cv_model = GridSearchCV(gdboost,\n",
    "                           gb_params,\n",
    "                           cv=5,\n",
    "                           n_jobs = 2,\n",
    "                          scoring=\"neg_mean_squared_error\")\n",
    "\n",
    "gb_cv_model.fit(X_train, Y_train)"
   ]
  },
  {
   "cell_type": "code",
   "execution_count": 60,
   "id": "bfb351d7",
   "metadata": {},
   "outputs": [
    {
     "data": {
      "text/plain": [
       "{'learning_rate': 0.2,\n",
       " 'max_depth': 6,\n",
       " 'max_leaf_nodes': 5,\n",
       " 'n_estimators': 100}"
      ]
     },
     "execution_count": 60,
     "metadata": {},
     "output_type": "execute_result"
    }
   ],
   "source": [
    "gb_cv_model.best_params_"
   ]
  },
  {
   "cell_type": "code",
   "execution_count": 61,
   "id": "6c682cad",
   "metadata": {},
   "outputs": [],
   "source": [
    "gb_cv_model_tuned =  GradientBoostingRegressor(learning_rate = 0.2, \n",
    "                                               max_depth = 6, \n",
    "                                               max_leaf_nodes = 5,\n",
    "                                               n_estimators = 100)"
   ]
  },
  {
   "cell_type": "code",
   "execution_count": 62,
   "id": "4a4bdfa3",
   "metadata": {},
   "outputs": [
    {
     "data": {
      "text/html": [
       "<style>#sk-container-id-4 {color: black;background-color: white;}#sk-container-id-4 pre{padding: 0;}#sk-container-id-4 div.sk-toggleable {background-color: white;}#sk-container-id-4 label.sk-toggleable__label {cursor: pointer;display: block;width: 100%;margin-bottom: 0;padding: 0.3em;box-sizing: border-box;text-align: center;}#sk-container-id-4 label.sk-toggleable__label-arrow:before {content: \"▸\";float: left;margin-right: 0.25em;color: #696969;}#sk-container-id-4 label.sk-toggleable__label-arrow:hover:before {color: black;}#sk-container-id-4 div.sk-estimator:hover label.sk-toggleable__label-arrow:before {color: black;}#sk-container-id-4 div.sk-toggleable__content {max-height: 0;max-width: 0;overflow: hidden;text-align: left;background-color: #f0f8ff;}#sk-container-id-4 div.sk-toggleable__content pre {margin: 0.2em;color: black;border-radius: 0.25em;background-color: #f0f8ff;}#sk-container-id-4 input.sk-toggleable__control:checked~div.sk-toggleable__content {max-height: 200px;max-width: 100%;overflow: auto;}#sk-container-id-4 input.sk-toggleable__control:checked~label.sk-toggleable__label-arrow:before {content: \"▾\";}#sk-container-id-4 div.sk-estimator input.sk-toggleable__control:checked~label.sk-toggleable__label {background-color: #d4ebff;}#sk-container-id-4 div.sk-label input.sk-toggleable__control:checked~label.sk-toggleable__label {background-color: #d4ebff;}#sk-container-id-4 input.sk-hidden--visually {border: 0;clip: rect(1px 1px 1px 1px);clip: rect(1px, 1px, 1px, 1px);height: 1px;margin: -1px;overflow: hidden;padding: 0;position: absolute;width: 1px;}#sk-container-id-4 div.sk-estimator {font-family: monospace;background-color: #f0f8ff;border: 1px dotted black;border-radius: 0.25em;box-sizing: border-box;margin-bottom: 0.5em;}#sk-container-id-4 div.sk-estimator:hover {background-color: #d4ebff;}#sk-container-id-4 div.sk-parallel-item::after {content: \"\";width: 100%;border-bottom: 1px solid gray;flex-grow: 1;}#sk-container-id-4 div.sk-label:hover label.sk-toggleable__label {background-color: #d4ebff;}#sk-container-id-4 div.sk-serial::before {content: \"\";position: absolute;border-left: 1px solid gray;box-sizing: border-box;top: 0;bottom: 0;left: 50%;z-index: 0;}#sk-container-id-4 div.sk-serial {display: flex;flex-direction: column;align-items: center;background-color: white;padding-right: 0.2em;padding-left: 0.2em;position: relative;}#sk-container-id-4 div.sk-item {position: relative;z-index: 1;}#sk-container-id-4 div.sk-parallel {display: flex;align-items: stretch;justify-content: center;background-color: white;position: relative;}#sk-container-id-4 div.sk-item::before, #sk-container-id-4 div.sk-parallel-item::before {content: \"\";position: absolute;border-left: 1px solid gray;box-sizing: border-box;top: 0;bottom: 0;left: 50%;z-index: -1;}#sk-container-id-4 div.sk-parallel-item {display: flex;flex-direction: column;z-index: 1;position: relative;background-color: white;}#sk-container-id-4 div.sk-parallel-item:first-child::after {align-self: flex-end;width: 50%;}#sk-container-id-4 div.sk-parallel-item:last-child::after {align-self: flex-start;width: 50%;}#sk-container-id-4 div.sk-parallel-item:only-child::after {width: 0;}#sk-container-id-4 div.sk-dashed-wrapped {border: 1px dashed gray;margin: 0 0.4em 0.5em 0.4em;box-sizing: border-box;padding-bottom: 0.4em;background-color: white;}#sk-container-id-4 div.sk-label label {font-family: monospace;font-weight: bold;display: inline-block;line-height: 1.2em;}#sk-container-id-4 div.sk-label-container {text-align: center;}#sk-container-id-4 div.sk-container {/* jupyter's `normalize.less` sets `[hidden] { display: none; }` but bootstrap.min.css set `[hidden] { display: none !important; }` so we also need the `!important` here to be able to override the default hidden behavior on the sphinx rendered scikit-learn.org. See: https://github.com/scikit-learn/scikit-learn/issues/21755 */display: inline-block !important;position: relative;}#sk-container-id-4 div.sk-text-repr-fallback {display: none;}</style><div id=\"sk-container-id-4\" class=\"sk-top-container\"><div class=\"sk-text-repr-fallback\"><pre>GradientBoostingRegressor(learning_rate=0.2, max_depth=6, max_leaf_nodes=5)</pre><b>In a Jupyter environment, please rerun this cell to show the HTML representation or trust the notebook. <br />On GitHub, the HTML representation is unable to render, please try loading this page with nbviewer.org.</b></div><div class=\"sk-container\" hidden><div class=\"sk-item\"><div class=\"sk-estimator sk-toggleable\"><input class=\"sk-toggleable__control sk-hidden--visually\" id=\"sk-estimator-id-6\" type=\"checkbox\" checked><label for=\"sk-estimator-id-6\" class=\"sk-toggleable__label sk-toggleable__label-arrow\">GradientBoostingRegressor</label><div class=\"sk-toggleable__content\"><pre>GradientBoostingRegressor(learning_rate=0.2, max_depth=6, max_leaf_nodes=5)</pre></div></div></div></div></div>"
      ],
      "text/plain": [
       "GradientBoostingRegressor(learning_rate=0.2, max_depth=6, max_leaf_nodes=5)"
      ]
     },
     "execution_count": 62,
     "metadata": {},
     "output_type": "execute_result"
    }
   ],
   "source": [
    "gb_cv_model_tuned.fit(X_train, Y_train)"
   ]
  },
  {
   "cell_type": "code",
   "execution_count": 63,
   "id": "79438762",
   "metadata": {},
   "outputs": [],
   "source": [
    "YpredGradientBoostingRegressor = gb_cv_model_tuned.predict(X_test)"
   ]
  },
  {
   "cell_type": "code",
   "execution_count": 64,
   "id": "465403aa",
   "metadata": {},
   "outputs": [
    {
     "name": "stdout",
     "output_type": "stream",
     "text": [
      "MAE GradientBoostingRegressor: 0.428\n",
      "MSE GradientBoostingRegressor: 0.326\n",
      "RMSE GradientBoostingRegressor: 0.571\n",
      "R2 SCORE GradientBoostingRegressor : 0.736\n",
      "time GradientBoostingRegressor : 0.0020893129999421944\n"
     ]
    }
   ],
   "source": [
    "start_time = timeit.default_timer()\n",
    "YpredGradientBoostingRegressor = gb_cv_model_tuned.predict(X_test)\n",
    "elapsedGradientBoostingRegressor= timeit.default_timer() - start_time\n",
    "meanErrorGradientBoostingRegressor = mean_absolute_error(Y_test, YpredGradientBoostingRegressor).round(3)\n",
    "medianErrorGradientBoostingRegressor= mean_squared_error(Y_test, YpredGradientBoostingRegressor).round(3)\n",
    "rmseGradientBoostingRegressor = np.sqrt(medianErrorGradientBoostingRegressor).round(3)\n",
    "r2score = r2_score(Y_test,YpredGradientBoostingRegressor).round(3)\n",
    "\n",
    "print(\"MAE GradientBoostingRegressor: {}\".format(meanErrorGradientBoostingRegressor))\n",
    "print(\"MSE GradientBoostingRegressor: {}\".format(medianErrorGradientBoostingRegressor))\n",
    "print(\"RMSE GradientBoostingRegressor: {}\".format(rmseGradientBoostingRegressor))\n",
    "print(\"R2 SCORE GradientBoostingRegressor : {}\".format(r2score))\n",
    "print(\"time GradientBoostingRegressor : {}\".format(elapsedGradientBoostingRegressor))"
   ]
  },
  {
   "cell_type": "markdown",
   "id": "d69ea76e",
   "metadata": {},
   "source": [
    "### RandomForest Regressor"
   ]
  },
  {
   "cell_type": "code",
   "execution_count": 65,
   "id": "25119b14",
   "metadata": {},
   "outputs": [
    {
     "data": {
      "text/html": [
       "<style>#sk-container-id-5 {color: black;background-color: white;}#sk-container-id-5 pre{padding: 0;}#sk-container-id-5 div.sk-toggleable {background-color: white;}#sk-container-id-5 label.sk-toggleable__label {cursor: pointer;display: block;width: 100%;margin-bottom: 0;padding: 0.3em;box-sizing: border-box;text-align: center;}#sk-container-id-5 label.sk-toggleable__label-arrow:before {content: \"▸\";float: left;margin-right: 0.25em;color: #696969;}#sk-container-id-5 label.sk-toggleable__label-arrow:hover:before {color: black;}#sk-container-id-5 div.sk-estimator:hover label.sk-toggleable__label-arrow:before {color: black;}#sk-container-id-5 div.sk-toggleable__content {max-height: 0;max-width: 0;overflow: hidden;text-align: left;background-color: #f0f8ff;}#sk-container-id-5 div.sk-toggleable__content pre {margin: 0.2em;color: black;border-radius: 0.25em;background-color: #f0f8ff;}#sk-container-id-5 input.sk-toggleable__control:checked~div.sk-toggleable__content {max-height: 200px;max-width: 100%;overflow: auto;}#sk-container-id-5 input.sk-toggleable__control:checked~label.sk-toggleable__label-arrow:before {content: \"▾\";}#sk-container-id-5 div.sk-estimator input.sk-toggleable__control:checked~label.sk-toggleable__label {background-color: #d4ebff;}#sk-container-id-5 div.sk-label input.sk-toggleable__control:checked~label.sk-toggleable__label {background-color: #d4ebff;}#sk-container-id-5 input.sk-hidden--visually {border: 0;clip: rect(1px 1px 1px 1px);clip: rect(1px, 1px, 1px, 1px);height: 1px;margin: -1px;overflow: hidden;padding: 0;position: absolute;width: 1px;}#sk-container-id-5 div.sk-estimator {font-family: monospace;background-color: #f0f8ff;border: 1px dotted black;border-radius: 0.25em;box-sizing: border-box;margin-bottom: 0.5em;}#sk-container-id-5 div.sk-estimator:hover {background-color: #d4ebff;}#sk-container-id-5 div.sk-parallel-item::after {content: \"\";width: 100%;border-bottom: 1px solid gray;flex-grow: 1;}#sk-container-id-5 div.sk-label:hover label.sk-toggleable__label {background-color: #d4ebff;}#sk-container-id-5 div.sk-serial::before {content: \"\";position: absolute;border-left: 1px solid gray;box-sizing: border-box;top: 0;bottom: 0;left: 50%;z-index: 0;}#sk-container-id-5 div.sk-serial {display: flex;flex-direction: column;align-items: center;background-color: white;padding-right: 0.2em;padding-left: 0.2em;position: relative;}#sk-container-id-5 div.sk-item {position: relative;z-index: 1;}#sk-container-id-5 div.sk-parallel {display: flex;align-items: stretch;justify-content: center;background-color: white;position: relative;}#sk-container-id-5 div.sk-item::before, #sk-container-id-5 div.sk-parallel-item::before {content: \"\";position: absolute;border-left: 1px solid gray;box-sizing: border-box;top: 0;bottom: 0;left: 50%;z-index: -1;}#sk-container-id-5 div.sk-parallel-item {display: flex;flex-direction: column;z-index: 1;position: relative;background-color: white;}#sk-container-id-5 div.sk-parallel-item:first-child::after {align-self: flex-end;width: 50%;}#sk-container-id-5 div.sk-parallel-item:last-child::after {align-self: flex-start;width: 50%;}#sk-container-id-5 div.sk-parallel-item:only-child::after {width: 0;}#sk-container-id-5 div.sk-dashed-wrapped {border: 1px dashed gray;margin: 0 0.4em 0.5em 0.4em;box-sizing: border-box;padding-bottom: 0.4em;background-color: white;}#sk-container-id-5 div.sk-label label {font-family: monospace;font-weight: bold;display: inline-block;line-height: 1.2em;}#sk-container-id-5 div.sk-label-container {text-align: center;}#sk-container-id-5 div.sk-container {/* jupyter's `normalize.less` sets `[hidden] { display: none; }` but bootstrap.min.css set `[hidden] { display: none !important; }` so we also need the `!important` here to be able to override the default hidden behavior on the sphinx rendered scikit-learn.org. See: https://github.com/scikit-learn/scikit-learn/issues/21755 */display: inline-block !important;position: relative;}#sk-container-id-5 div.sk-text-repr-fallback {display: none;}</style><div id=\"sk-container-id-5\" class=\"sk-top-container\"><div class=\"sk-text-repr-fallback\"><pre>GridSearchCV(cv=5, estimator=RandomForestRegressor(random_state=42), n_jobs=2,\n",
       "             param_grid={&#x27;max_depth&#x27;: [5, 15, 25, 50],\n",
       "                         &#x27;max_features&#x27;: [3, 5, 10, 15],\n",
       "                         &#x27;n_estimators&#x27;: [100, 200, 500, 1000, 2000]},\n",
       "             scoring=&#x27;neg_mean_squared_error&#x27;)</pre><b>In a Jupyter environment, please rerun this cell to show the HTML representation or trust the notebook. <br />On GitHub, the HTML representation is unable to render, please try loading this page with nbviewer.org.</b></div><div class=\"sk-container\" hidden><div class=\"sk-item sk-dashed-wrapped\"><div class=\"sk-label-container\"><div class=\"sk-label sk-toggleable\"><input class=\"sk-toggleable__control sk-hidden--visually\" id=\"sk-estimator-id-7\" type=\"checkbox\" ><label for=\"sk-estimator-id-7\" class=\"sk-toggleable__label sk-toggleable__label-arrow\">GridSearchCV</label><div class=\"sk-toggleable__content\"><pre>GridSearchCV(cv=5, estimator=RandomForestRegressor(random_state=42), n_jobs=2,\n",
       "             param_grid={&#x27;max_depth&#x27;: [5, 15, 25, 50],\n",
       "                         &#x27;max_features&#x27;: [3, 5, 10, 15],\n",
       "                         &#x27;n_estimators&#x27;: [100, 200, 500, 1000, 2000]},\n",
       "             scoring=&#x27;neg_mean_squared_error&#x27;)</pre></div></div></div><div class=\"sk-parallel\"><div class=\"sk-parallel-item\"><div class=\"sk-item\"><div class=\"sk-label-container\"><div class=\"sk-label sk-toggleable\"><input class=\"sk-toggleable__control sk-hidden--visually\" id=\"sk-estimator-id-8\" type=\"checkbox\" ><label for=\"sk-estimator-id-8\" class=\"sk-toggleable__label sk-toggleable__label-arrow\">estimator: RandomForestRegressor</label><div class=\"sk-toggleable__content\"><pre>RandomForestRegressor(random_state=42)</pre></div></div></div><div class=\"sk-serial\"><div class=\"sk-item\"><div class=\"sk-estimator sk-toggleable\"><input class=\"sk-toggleable__control sk-hidden--visually\" id=\"sk-estimator-id-9\" type=\"checkbox\" ><label for=\"sk-estimator-id-9\" class=\"sk-toggleable__label sk-toggleable__label-arrow\">RandomForestRegressor</label><div class=\"sk-toggleable__content\"><pre>RandomForestRegressor(random_state=42)</pre></div></div></div></div></div></div></div></div></div></div>"
      ],
      "text/plain": [
       "GridSearchCV(cv=5, estimator=RandomForestRegressor(random_state=42), n_jobs=2,\n",
       "             param_grid={'max_depth': [5, 15, 25, 50],\n",
       "                         'max_features': [3, 5, 10, 15],\n",
       "                         'n_estimators': [100, 200, 500, 1000, 2000]},\n",
       "             scoring='neg_mean_squared_error')"
      ]
     },
     "execution_count": 65,
     "metadata": {},
     "output_type": "execute_result"
    }
   ],
   "source": [
    "from scipy.stats import loguniform\n",
    "from sklearn.model_selection import GridSearchCV\n",
    "from sklearn.tree import RandomForestRegressor\n",
    "\n",
    "rf_params = {'max_features' : [3,5,10,15],\n",
    "             'max_depth': [5, 15, 25, 50],\n",
    "             'n_estimators': [100,200,500,1000,2000],\n",
    "            }\n",
    "\n",
    "rdmforest = RandomForestRegressor(random_state=42)\n",
    "\n",
    "rf_cv_model = GridSearchCV(rdmforest,\n",
    "                           rf_params,\n",
    "                           cv=5,\n",
    "                           n_jobs = 2,\n",
    "                          scoring=\"neg_mean_squared_error\")\n",
    "\n",
    "rf_cv_model.fit(X_train, Y_train)\n"
   ]
  },
  {
   "cell_type": "code",
   "execution_count": 66,
   "id": "e7593bcf",
   "metadata": {},
   "outputs": [
    {
     "data": {
      "text/plain": [
       "{'max_depth': 15, 'max_features': 15, 'n_estimators': 1000}"
      ]
     },
     "execution_count": 66,
     "metadata": {},
     "output_type": "execute_result"
    }
   ],
   "source": [
    "rf_cv_model.best_params_"
   ]
  },
  {
   "cell_type": "code",
   "execution_count": 67,
   "id": "983bd2c0",
   "metadata": {},
   "outputs": [],
   "source": [
    "rdmforest_tuned =  RandomForestRegressor(max_depth= 15, \n",
    "                                         max_features= 15, \n",
    "                                         n_estimators= 1000)"
   ]
  },
  {
   "cell_type": "code",
   "execution_count": 68,
   "id": "bb863f21",
   "metadata": {},
   "outputs": [
    {
     "data": {
      "text/html": [
       "<style>#sk-container-id-6 {color: black;background-color: white;}#sk-container-id-6 pre{padding: 0;}#sk-container-id-6 div.sk-toggleable {background-color: white;}#sk-container-id-6 label.sk-toggleable__label {cursor: pointer;display: block;width: 100%;margin-bottom: 0;padding: 0.3em;box-sizing: border-box;text-align: center;}#sk-container-id-6 label.sk-toggleable__label-arrow:before {content: \"▸\";float: left;margin-right: 0.25em;color: #696969;}#sk-container-id-6 label.sk-toggleable__label-arrow:hover:before {color: black;}#sk-container-id-6 div.sk-estimator:hover label.sk-toggleable__label-arrow:before {color: black;}#sk-container-id-6 div.sk-toggleable__content {max-height: 0;max-width: 0;overflow: hidden;text-align: left;background-color: #f0f8ff;}#sk-container-id-6 div.sk-toggleable__content pre {margin: 0.2em;color: black;border-radius: 0.25em;background-color: #f0f8ff;}#sk-container-id-6 input.sk-toggleable__control:checked~div.sk-toggleable__content {max-height: 200px;max-width: 100%;overflow: auto;}#sk-container-id-6 input.sk-toggleable__control:checked~label.sk-toggleable__label-arrow:before {content: \"▾\";}#sk-container-id-6 div.sk-estimator input.sk-toggleable__control:checked~label.sk-toggleable__label {background-color: #d4ebff;}#sk-container-id-6 div.sk-label input.sk-toggleable__control:checked~label.sk-toggleable__label {background-color: #d4ebff;}#sk-container-id-6 input.sk-hidden--visually {border: 0;clip: rect(1px 1px 1px 1px);clip: rect(1px, 1px, 1px, 1px);height: 1px;margin: -1px;overflow: hidden;padding: 0;position: absolute;width: 1px;}#sk-container-id-6 div.sk-estimator {font-family: monospace;background-color: #f0f8ff;border: 1px dotted black;border-radius: 0.25em;box-sizing: border-box;margin-bottom: 0.5em;}#sk-container-id-6 div.sk-estimator:hover {background-color: #d4ebff;}#sk-container-id-6 div.sk-parallel-item::after {content: \"\";width: 100%;border-bottom: 1px solid gray;flex-grow: 1;}#sk-container-id-6 div.sk-label:hover label.sk-toggleable__label {background-color: #d4ebff;}#sk-container-id-6 div.sk-serial::before {content: \"\";position: absolute;border-left: 1px solid gray;box-sizing: border-box;top: 0;bottom: 0;left: 50%;z-index: 0;}#sk-container-id-6 div.sk-serial {display: flex;flex-direction: column;align-items: center;background-color: white;padding-right: 0.2em;padding-left: 0.2em;position: relative;}#sk-container-id-6 div.sk-item {position: relative;z-index: 1;}#sk-container-id-6 div.sk-parallel {display: flex;align-items: stretch;justify-content: center;background-color: white;position: relative;}#sk-container-id-6 div.sk-item::before, #sk-container-id-6 div.sk-parallel-item::before {content: \"\";position: absolute;border-left: 1px solid gray;box-sizing: border-box;top: 0;bottom: 0;left: 50%;z-index: -1;}#sk-container-id-6 div.sk-parallel-item {display: flex;flex-direction: column;z-index: 1;position: relative;background-color: white;}#sk-container-id-6 div.sk-parallel-item:first-child::after {align-self: flex-end;width: 50%;}#sk-container-id-6 div.sk-parallel-item:last-child::after {align-self: flex-start;width: 50%;}#sk-container-id-6 div.sk-parallel-item:only-child::after {width: 0;}#sk-container-id-6 div.sk-dashed-wrapped {border: 1px dashed gray;margin: 0 0.4em 0.5em 0.4em;box-sizing: border-box;padding-bottom: 0.4em;background-color: white;}#sk-container-id-6 div.sk-label label {font-family: monospace;font-weight: bold;display: inline-block;line-height: 1.2em;}#sk-container-id-6 div.sk-label-container {text-align: center;}#sk-container-id-6 div.sk-container {/* jupyter's `normalize.less` sets `[hidden] { display: none; }` but bootstrap.min.css set `[hidden] { display: none !important; }` so we also need the `!important` here to be able to override the default hidden behavior on the sphinx rendered scikit-learn.org. See: https://github.com/scikit-learn/scikit-learn/issues/21755 */display: inline-block !important;position: relative;}#sk-container-id-6 div.sk-text-repr-fallback {display: none;}</style><div id=\"sk-container-id-6\" class=\"sk-top-container\"><div class=\"sk-text-repr-fallback\"><pre>RandomForestRegressor(max_depth=15, max_features=15, n_estimators=1000)</pre><b>In a Jupyter environment, please rerun this cell to show the HTML representation or trust the notebook. <br />On GitHub, the HTML representation is unable to render, please try loading this page with nbviewer.org.</b></div><div class=\"sk-container\" hidden><div class=\"sk-item\"><div class=\"sk-estimator sk-toggleable\"><input class=\"sk-toggleable__control sk-hidden--visually\" id=\"sk-estimator-id-10\" type=\"checkbox\" checked><label for=\"sk-estimator-id-10\" class=\"sk-toggleable__label sk-toggleable__label-arrow\">RandomForestRegressor</label><div class=\"sk-toggleable__content\"><pre>RandomForestRegressor(max_depth=15, max_features=15, n_estimators=1000)</pre></div></div></div></div></div>"
      ],
      "text/plain": [
       "RandomForestRegressor(max_depth=15, max_features=15, n_estimators=1000)"
      ]
     },
     "execution_count": 68,
     "metadata": {},
     "output_type": "execute_result"
    }
   ],
   "source": [
    "rdmforest_tuned.fit(X_train, Y_train)"
   ]
  },
  {
   "cell_type": "code",
   "execution_count": 69,
   "id": "8cfcb214",
   "metadata": {},
   "outputs": [],
   "source": [
    "YpredRandomForestRegressor = rdmforest_tuned.predict(X_test)"
   ]
  },
  {
   "cell_type": "code",
   "execution_count": 70,
   "id": "02b76dd8",
   "metadata": {},
   "outputs": [
    {
     "name": "stdout",
     "output_type": "stream",
     "text": [
      "MAE RandomForestRegressor: 0.444\n",
      "MSE RandomForestRegressor: 0.344\n",
      "RMSE RandomForestRegressor: 0.587\n",
      "R2 SCORE RandomForestRegressor est: 0.721\n",
      "time RandomForestRegressor est: 0.13266711100004613\n"
     ]
    }
   ],
   "source": [
    "start_time = timeit.default_timer()\n",
    "YpredRandomForestRegressor = rdmforest_tuned.predict(X_test)\n",
    "elapsedRandomForestRegressor= timeit.default_timer() - start_time\n",
    "meanErrorRandomForestRegressor = mean_absolute_error(Y_test, YpredRandomForestRegressor).round(3)\n",
    "medianErrorRandomForestRegressor = mean_squared_error(Y_test, YpredRandomForestRegressor).round(3)\n",
    "rmseRandomForestRegressor = np.sqrt(medianErrorRandomForestRegressor).round(3)\n",
    "r2score = r2_score(Y_test,YpredRandomForestRegressor).round(3)\n",
    "\n",
    "print(\"MAE RandomForestRegressor: {}\".format(meanErrorRandomForestRegressor))\n",
    "print(\"MSE RandomForestRegressor: {}\".format(medianErrorRandomForestRegressor))\n",
    "print(\"RMSE RandomForestRegressor: {}\".format(rmseRandomForestRegressor))\n",
    "print(\"R2 SCORE RandomForestRegressor est: {}\".format(r2score))\n",
    "print(\"time RandomForestRegressor est: {}\".format(elapsedRandomForestRegressor))"
   ]
  },
  {
   "cell_type": "code",
   "execution_count": 71,
   "id": "075676e8",
   "metadata": {},
   "outputs": [
    {
     "data": {
      "text/html": [
       "<div>\n",
       "<style scoped>\n",
       "    .dataframe tbody tr th:only-of-type {\n",
       "        vertical-align: middle;\n",
       "    }\n",
       "\n",
       "    .dataframe tbody tr th {\n",
       "        vertical-align: top;\n",
       "    }\n",
       "\n",
       "    .dataframe thead th {\n",
       "        text-align: right;\n",
       "    }\n",
       "</style>\n",
       "<table border=\"1\" class=\"dataframe\">\n",
       "  <thead>\n",
       "    <tr style=\"text-align: right;\">\n",
       "      <th></th>\n",
       "      <th>Random Forest</th>\n",
       "      <th>GradientBoosting</th>\n",
       "    </tr>\n",
       "  </thead>\n",
       "  <tbody>\n",
       "    <tr>\n",
       "      <th>MAE</th>\n",
       "      <td>0.446000</td>\n",
       "      <td>0.427000</td>\n",
       "    </tr>\n",
       "    <tr>\n",
       "      <th>MSE</th>\n",
       "      <td>0.347000</td>\n",
       "      <td>0.325000</td>\n",
       "    </tr>\n",
       "    <tr>\n",
       "      <th>RMSE</th>\n",
       "      <td>0.589000</td>\n",
       "      <td>0.570000</td>\n",
       "    </tr>\n",
       "    <tr>\n",
       "      <th>R²</th>\n",
       "      <td>0.719000</td>\n",
       "      <td>0.736000</td>\n",
       "    </tr>\n",
       "    <tr>\n",
       "      <th>time</th>\n",
       "      <td>0.140761</td>\n",
       "      <td>0.000667</td>\n",
       "    </tr>\n",
       "  </tbody>\n",
       "</table>\n",
       "</div>"
      ],
      "text/plain": [
       "      Random Forest  GradientBoosting\n",
       "MAE        0.446000          0.427000\n",
       "MSE        0.347000          0.325000\n",
       "RMSE       0.589000          0.570000\n",
       "R²         0.719000          0.736000\n",
       "time       0.140761          0.000667"
      ]
     },
     "execution_count": 71,
     "metadata": {},
     "output_type": "execute_result"
    }
   ],
   "source": [
    "model = [rdmforest_tuned, gb_cv_model_tuned]\n",
    "dict_results = {}\n",
    "\n",
    "for model in model:\n",
    "    model.fit(X_train, Y_train)\n",
    "    start_time = timeit.default_timer()\n",
    "    Y_pred = model.predict(X_test)\n",
    "    time = timeit.default_timer() - start_time\n",
    "    mae = mean_absolute_error(Y_test, Y_pred)\n",
    "    mse = mean_squared_error(Y_test, Y_pred)\n",
    "    rmse = np.sqrt(mse)\n",
    "    r_score = r2_score(Y_test, Y_pred, multioutput=\"variance_weighted\").round(3)\n",
    "    dict_results[model] = (mae.round(3), mse.round(3), rmse.round(3), r_score, time)\n",
    "\n",
    "results_gb_et_rf = pd.DataFrame(dict_results, index=[\"MAE\", \"MSE\", \"RMSE\", \"R²\",\"time\"])\n",
    "results_gb_et_rf.columns = [\"Random Forest\", \"GradientBoosting\"]\n",
    "\n",
    "results_gb_et_rf\n",
    "\n"
   ]
  },
  {
   "cell_type": "code",
   "execution_count": 72,
   "id": "14036303",
   "metadata": {},
   "outputs": [],
   "source": [
    "results_gb_et_rf_t=results_gb_et_rf.transpose()"
   ]
  },
  {
   "cell_type": "code",
   "execution_count": 73,
   "id": "9a977bef",
   "metadata": {},
   "outputs": [],
   "source": [
    "results_gb_et_rf_t.reset_index(inplace=True)"
   ]
  },
  {
   "cell_type": "code",
   "execution_count": 74,
   "id": "83ac7b10",
   "metadata": {},
   "outputs": [],
   "source": [
    "results_gb_et_rf_t.rename(columns={\"index\": \"Nom de Model\"},inplace=True)"
   ]
  },
  {
   "cell_type": "code",
   "execution_count": 75,
   "id": "5ab300e9",
   "metadata": {},
   "outputs": [
    {
     "data": {
      "image/png": "[encoded data removed]",
      "text/plain": [
       "<Figure size 288x144 with 1 Axes>"
      ]
     },
     "metadata": {
      "needs_background": "light"
     },
     "output_type": "display_data"
    }
   ],
   "source": [
    "plt.figure(figsize=(4,2))\n",
    "plt.title('Comparaison des MSE des modèles')\n",
    "ax = sns.barplot(x = results_gb_et_rf_t['Nom de Model'], y = results_gb_et_rf_t['MSE'])\n",
    "ax.set_xticklabels(labels = results_gb_et_rf_t['Nom de Model'], rotation=45, horizontalalignment='right',size=10)\n",
    "plt.show()"
   ]
  },
  {
   "cell_type": "code",
   "execution_count": 76,
   "id": "c11e6621",
   "metadata": {},
   "outputs": [
    {
     "data": {
      "image/png": "[encoded data removed]",
      "text/plain": [
       "<Figure size 288x144 with 1 Axes>"
      ]
     },
     "metadata": {
      "needs_background": "light"
     },
     "output_type": "display_data"
    }
   ],
   "source": [
    "plt.figure(figsize=(4,2))\n",
    "plt.title('Comparaison des R² des modèles')\n",
    "ax = sns.barplot(x = results_gb_et_rf_t['Nom de Model'], y = results_gb_et_rf_t['R²'])\n",
    "ax.set_xticklabels(labels = results_gb_et_rf_t['Nom de Model'], rotation=45, horizontalalignment='right',size=10)\n",
    "plt.show()"
   ]
  },
  {
   "cell_type": "code",
   "execution_count": 77,
   "id": "ad4514b3",
   "metadata": {},
   "outputs": [
    {
     "data": {
      "image/png": "[encoded data removed]",
      "text/plain": [
       "<Figure size 288x144 with 1 Axes>"
      ]
     },
     "metadata": {
      "needs_background": "light"
     },
     "output_type": "display_data"
    }
   ],
   "source": [
    "plt.figure(figsize=(4,2))\n",
    "plt.title('Comparaison des time des modèles')\n",
    "ax = sns.barplot(x = results_gb_et_rf_t['Nom de Model'], y = results_gb_et_rf_t['time'])\n",
    "ax.set_xticklabels(labels = results_gb_et_rf_t['Nom de Model'], rotation=45, horizontalalignment='right',size=10)\n",
    "plt.show()"
   ]
  },
  {
   "cell_type": "markdown",
   "id": "85c23a12",
   "metadata": {},
   "source": [
    "### Model Selectionne"
   ]
  },
  {
   "cell_type": "code",
   "execution_count": 78,
   "id": "daa46473",
   "metadata": {},
   "outputs": [],
   "source": [
    "model_selectionne=GradientBoostingRegressor(learning_rate = 0.2, \n",
    "                                            max_depth = 6, \n",
    "                                            max_leaf_nodes = 5,\n",
    "                                            n_estimators = 100)"
   ]
  },
  {
   "cell_type": "code",
   "execution_count": 79,
   "id": "ae85affe",
   "metadata": {},
   "outputs": [
    {
     "data": {
      "text/html": [
       "<style>#sk-container-id-7 {color: black;background-color: white;}#sk-container-id-7 pre{padding: 0;}#sk-container-id-7 div.sk-toggleable {background-color: white;}#sk-container-id-7 label.sk-toggleable__label {cursor: pointer;display: block;width: 100%;margin-bottom: 0;padding: 0.3em;box-sizing: border-box;text-align: center;}#sk-container-id-7 label.sk-toggleable__label-arrow:before {content: \"▸\";float: left;margin-right: 0.25em;color: #696969;}#sk-container-id-7 label.sk-toggleable__label-arrow:hover:before {color: black;}#sk-container-id-7 div.sk-estimator:hover label.sk-toggleable__label-arrow:before {color: black;}#sk-container-id-7 div.sk-toggleable__content {max-height: 0;max-width: 0;overflow: hidden;text-align: left;background-color: #f0f8ff;}#sk-container-id-7 div.sk-toggleable__content pre {margin: 0.2em;color: black;border-radius: 0.25em;background-color: #f0f8ff;}#sk-container-id-7 input.sk-toggleable__control:checked~div.sk-toggleable__content {max-height: 200px;max-width: 100%;overflow: auto;}#sk-container-id-7 input.sk-toggleable__control:checked~label.sk-toggleable__label-arrow:before {content: \"▾\";}#sk-container-id-7 div.sk-estimator input.sk-toggleable__control:checked~label.sk-toggleable__label {background-color: #d4ebff;}#sk-container-id-7 div.sk-label input.sk-toggleable__control:checked~label.sk-toggleable__label {background-color: #d4ebff;}#sk-container-id-7 input.sk-hidden--visually {border: 0;clip: rect(1px 1px 1px 1px);clip: rect(1px, 1px, 1px, 1px);height: 1px;margin: -1px;overflow: hidden;padding: 0;position: absolute;width: 1px;}#sk-container-id-7 div.sk-estimator {font-family: monospace;background-color: #f0f8ff;border: 1px dotted black;border-radius: 0.25em;box-sizing: border-box;margin-bottom: 0.5em;}#sk-container-id-7 div.sk-estimator:hover {background-color: #d4ebff;}#sk-container-id-7 div.sk-parallel-item::after {content: \"\";width: 100%;border-bottom: 1px solid gray;flex-grow: 1;}#sk-container-id-7 div.sk-label:hover label.sk-toggleable__label {background-color: #d4ebff;}#sk-container-id-7 div.sk-serial::before {content: \"\";position: absolute;border-left: 1px solid gray;box-sizing: border-box;top: 0;bottom: 0;left: 50%;z-index: 0;}#sk-container-id-7 div.sk-serial {display: flex;flex-direction: column;align-items: center;background-color: white;padding-right: 0.2em;padding-left: 0.2em;position: relative;}#sk-container-id-7 div.sk-item {position: relative;z-index: 1;}#sk-container-id-7 div.sk-parallel {display: flex;align-items: stretch;justify-content: center;background-color: white;position: relative;}#sk-container-id-7 div.sk-item::before, #sk-container-id-7 div.sk-parallel-item::before {content: \"\";position: absolute;border-left: 1px solid gray;box-sizing: border-box;top: 0;bottom: 0;left: 50%;z-index: -1;}#sk-container-id-7 div.sk-parallel-item {display: flex;flex-direction: column;z-index: 1;position: relative;background-color: white;}#sk-container-id-7 div.sk-parallel-item:first-child::after {align-self: flex-end;width: 50%;}#sk-container-id-7 div.sk-parallel-item:last-child::after {align-self: flex-start;width: 50%;}#sk-container-id-7 div.sk-parallel-item:only-child::after {width: 0;}#sk-container-id-7 div.sk-dashed-wrapped {border: 1px dashed gray;margin: 0 0.4em 0.5em 0.4em;box-sizing: border-box;padding-bottom: 0.4em;background-color: white;}#sk-container-id-7 div.sk-label label {font-family: monospace;font-weight: bold;display: inline-block;line-height: 1.2em;}#sk-container-id-7 div.sk-label-container {text-align: center;}#sk-container-id-7 div.sk-container {/* jupyter's `normalize.less` sets `[hidden] { display: none; }` but bootstrap.min.css set `[hidden] { display: none !important; }` so we also need the `!important` here to be able to override the default hidden behavior on the sphinx rendered scikit-learn.org. See: https://github.com/scikit-learn/scikit-learn/issues/21755 */display: inline-block !important;position: relative;}#sk-container-id-7 div.sk-text-repr-fallback {display: none;}</style><div id=\"sk-container-id-7\" class=\"sk-top-container\"><div class=\"sk-text-repr-fallback\"><pre>GradientBoostingRegressor(learning_rate=0.2, max_depth=6, max_leaf_nodes=5)</pre><b>In a Jupyter environment, please rerun this cell to show the HTML representation or trust the notebook. <br />On GitHub, the HTML representation is unable to render, please try loading this page with nbviewer.org.</b></div><div class=\"sk-container\" hidden><div class=\"sk-item\"><div class=\"sk-estimator sk-toggleable\"><input class=\"sk-toggleable__control sk-hidden--visually\" id=\"sk-estimator-id-11\" type=\"checkbox\" checked><label for=\"sk-estimator-id-11\" class=\"sk-toggleable__label sk-toggleable__label-arrow\">GradientBoostingRegressor</label><div class=\"sk-toggleable__content\"><pre>GradientBoostingRegressor(learning_rate=0.2, max_depth=6, max_leaf_nodes=5)</pre></div></div></div></div></div>"
      ],
      "text/plain": [
       "GradientBoostingRegressor(learning_rate=0.2, max_depth=6, max_leaf_nodes=5)"
      ]
     },
     "execution_count": 79,
     "metadata": {},
     "output_type": "execute_result"
    }
   ],
   "source": [
    "model_selectionne.fit(X_train,Y_train)"
   ]
  },
  {
   "cell_type": "code",
   "execution_count": 80,
   "id": "8cedc2b7",
   "metadata": {},
   "outputs": [
    {
     "name": "stdout",
     "output_type": "stream",
     "text": [
      "MAE:  0.43111\n",
      "MSE:  0.33157\n",
      "RMSE:  0.5758197600562731\n",
      "MAPE:  0.02777\n",
      "R²:  0.73113\n"
     ]
    }
   ],
   "source": [
    "Y_pred= model_selectionne.predict(X_test)\n",
    "reg_met(np.array(Y_test), Y_pred)"
   ]
  },
  {
   "cell_type": "code",
   "execution_count": 81,
   "id": "a2f36adb",
   "metadata": {},
   "outputs": [
    {
     "data": {
      "text/plain": [
       "Text(0, 0.5, 'Les valeurs estimées')"
      ]
     },
     "execution_count": 81,
     "metadata": {},
     "output_type": "execute_result"
    },
    {
     "data": {
      "image/png": "[encoded data removed]",
      "text/plain": [
       "<Figure size 576x576 with 1 Axes>"
      ]
     },
     "metadata": {
      "needs_background": "light"
     },
     "output_type": "display_data"
    }
   ],
   "source": [
    "plt.figure(figsize=(8,8))\n",
    "sns.scatterplot(np.exp(Y_test[\"SiteEnergyUseWN(kBtu)_log\"]), np.exp(Y_pred))\n",
    "plt.title('Comparaison de la consommation de énergie prédite avec algorithme Gradient Boosting versus la consommation reel', y=1.05)\n",
    "plt.xlabel('Valeurs de test')\n",
    "plt.ylabel('Les valeurs estimées')"
   ]
  },
  {
   "cell_type": "markdown",
   "id": "cf76183d",
   "metadata": {},
   "source": [
    "### Feature_importance"
   ]
  },
  {
   "cell_type": "code",
   "execution_count": 82,
   "id": "c3d39bba",
   "metadata": {},
   "outputs": [],
   "source": [
    "feature_importance = model_selectionne.feature_importances_"
   ]
  },
  {
   "cell_type": "code",
   "execution_count": 83,
   "id": "d98fe261",
   "metadata": {},
   "outputs": [
    {
     "data": {
      "text/plain": [
       "['x0_Campus',\n",
       " 'x0_NonResidential',\n",
       " 'x0_Nonresidential COS',\n",
       " 'x0_SPS-District K-12',\n",
       " 'x1_Distribution Center',\n",
       " 'x1_Hospital',\n",
       " 'x1_Hotel',\n",
       " 'x1_K-12 School',\n",
       " 'x1_Laboratory',\n",
       " 'x1_Large Office',\n",
       " 'x1_Medical Office',\n",
       " 'x1_Mixed Use Property',\n",
       " 'x1_Other',\n",
       " 'x1_Refrigerated Warehouse',\n",
       " 'x1_Residence Hall',\n",
       " 'x1_Restaurant',\n",
       " 'x1_Retail Store',\n",
       " 'x1_Self-Storage Facility',\n",
       " 'x1_Senior Care Community',\n",
       " 'x1_Small- and Mid-Sized Office',\n",
       " 'x1_Supermarket / Grocery Store',\n",
       " 'x1_University',\n",
       " 'x1_Warehouse',\n",
       " 'x1_Worship Facility',\n",
       " 'x2_BALLARD',\n",
       " 'x2_CENTRAL',\n",
       " 'x2_DELRIDGE',\n",
       " 'x2_DOWNTOWN',\n",
       " 'x2_EAST',\n",
       " 'x2_GREATER DUWAMISH',\n",
       " 'x2_LAKE UNION',\n",
       " 'x2_MAGNOLIA / QUEEN ANNE',\n",
       " 'x2_NORTH',\n",
       " 'x2_NORTHEAST',\n",
       " 'x2_NORTHWEST',\n",
       " 'x2_SOUTHEAST',\n",
       " 'x2_SOUTHWEST',\n",
       " 'x3_Adult Education',\n",
       " 'x3_Automobile Dealership',\n",
       " 'x3_College/University',\n",
       " 'x3_Courthouse',\n",
       " 'x3_Data Center',\n",
       " 'x3_Distribution Center',\n",
       " 'x3_Financial Office',\n",
       " 'x3_Fire Station',\n",
       " 'x3_Fitness Center/Health Club/Gym',\n",
       " 'x3_Hospital (General Medical & Surgical)',\n",
       " 'x3_Hotel',\n",
       " 'x3_K-12 School',\n",
       " 'x3_Laboratory',\n",
       " 'x3_Library',\n",
       " 'x3_Lifestyle Center',\n",
       " 'x3_Manufacturing/Industrial Plant',\n",
       " 'x3_Medical Office',\n",
       " 'x3_Multifamily Housing',\n",
       " 'x3_Museum',\n",
       " 'x3_Non-Refrigerated Warehouse',\n",
       " 'x3_Office',\n",
       " 'x3_Other',\n",
       " 'x3_Other - Education',\n",
       " 'x3_Other - Entertainment/Public Assembly',\n",
       " 'x3_Other - Lodging/Residential',\n",
       " 'x3_Other - Mall',\n",
       " 'x3_Other - Public Services',\n",
       " 'x3_Other - Recreation',\n",
       " 'x3_Other - Restaurant/Bar',\n",
       " 'x3_Other - Services',\n",
       " 'x3_Other - Utility',\n",
       " 'x3_Other/Specialty Hospital',\n",
       " 'x3_Parking',\n",
       " 'x3_Performing Arts',\n",
       " 'x3_Police Station',\n",
       " 'x3_Pre-school/Daycare',\n",
       " 'x3_Refrigerated Warehouse',\n",
       " 'x3_Repair Services (Vehicle, Shoe, Locksmith, etc)',\n",
       " 'x3_Residence Hall/Dormitory',\n",
       " 'x3_Restaurant',\n",
       " 'x3_Retail Store',\n",
       " 'x3_Self-Storage Facility',\n",
       " 'x3_Senior Care Community',\n",
       " 'x3_Social/Meeting Hall',\n",
       " 'x3_Strip Mall',\n",
       " 'x3_Supermarket/Grocery Store',\n",
       " 'x3_Urgent Care/Clinic/Other Outpatient',\n",
       " 'x3_Wholesale Club/Supercenter',\n",
       " 'x3_Worship Facility',\n",
       " 'x4_High Usage',\n",
       " 'x4_Low Usage',\n",
       " 'x5_High Usage',\n",
       " 'x5_Low Usage',\n",
       " 'x6_High Usage',\n",
       " 'x6_Low Usage',\n",
       " 'NumberofBuildings',\n",
       " 'NumberofFloors',\n",
       " 'PropertyGFATotal',\n",
       " 'Âgebâtiment',\n",
       " 'GFABuildingRate',\n",
       " 'GFAParkingRate',\n",
       " 'GFAPerBuilding',\n",
       " 'GFAPerFloor']"
      ]
     },
     "execution_count": 83,
     "metadata": {},
     "output_type": "execute_result"
    }
   ],
   "source": [
    "fi = preprocessor.get_params()['transformers']\n",
    "feature_names = []\n",
    "for name,transformer,features in fi:\n",
    "    try:\n",
    "        Var = preprocessor.named_transformers_[name].get_feature_names().tolist()\n",
    "    except AttributeError:\n",
    "        Var = features\n",
    "    feature_names = feature_names + Var\n",
    "\n",
    "feature_names"
   ]
  },
  {
   "cell_type": "code",
   "execution_count": 84,
   "id": "95cd110e",
   "metadata": {},
   "outputs": [
    {
     "data": {
      "image/png": "[encoded data removed]",
      "text/plain": [
       "<Figure size 432x288 with 1 Axes>"
      ]
     },
     "metadata": {
      "needs_background": "light"
     },
     "output_type": "display_data"
    }
   ],
   "source": [
    "features_importances = pd.Series(feature_importance,index=feature_names)\n",
    "features_importances.nlargest(7).plot(kind='barh')\n",
    "plt.title('Feature Importances')\n",
    "plt.xlabel('Relative Importance')\n",
    "plt.show()"
   ]
  },
  {
   "cell_type": "markdown",
   "id": "4259ef7a",
   "metadata": {},
   "source": [
    "### L'effet du score ENERGY STAR"
   ]
  },
  {
   "cell_type": "code",
   "execution_count": 85,
   "id": "1a06e576",
   "metadata": {},
   "outputs": [],
   "source": [
    "#Ajout de la variable à nos variables X\n",
    "X['energystar_score'] = energystar_score\n",
    "#Ajout de la variable dans les variables numérique du preprocessor\n",
    "numeric_features.append('energystar_score')"
   ]
  },
  {
   "cell_type": "code",
   "execution_count": 86,
   "id": "f9eace43",
   "metadata": {},
   "outputs": [],
   "source": [
    "#Filtrage des données ayant un Energy Star Score renseigné\n",
    "X = X[X['energystar_score'].isnull()==False]\n",
    "Y_star = Y[Y.index.isin(list(X.index))]"
   ]
  },
  {
   "cell_type": "code",
   "execution_count": 87,
   "id": "c56abe19",
   "metadata": {},
   "outputs": [
    {
     "data": {
      "image/png": "[encoded data removed]",
      "text/plain": [
       "<Figure size 1440x576 with 2 Axes>"
      ]
     },
     "metadata": {
      "needs_background": "light"
     },
     "output_type": "display_data"
    }
   ],
   "source": [
    "fig, axes = plt.subplots(nrows=1, ncols=2, sharex=False, sharey=False, figsize=(20,8))\n",
    "sns.histplot(data=X, x='energystar_score', stat=\"density\", ax=axes[0])\n",
    "axes[0].set_title(\"Distribution\", color='#2cb7b0')\n",
    "sns.scatterplot(data=pd.concat([X,Y], axis=1), y=data_filter['SiteEnergyUseWN(kBtu)_log'], x='energystar_score', ax=axes[1])\n",
    "axes[1].set_title(\"ENERGY STAR score en fonction de SiteEnergyUseWN(kBtu)_log\", color='#2cb7b0')\n",
    "plt.suptitle(\"Analyse de la variable ENERGY STAR Score\", fontsize=22)\n",
    "plt.show()"
   ]
  },
  {
   "cell_type": "code",
   "execution_count": 88,
   "id": "b5ec25ca",
   "metadata": {},
   "outputs": [
    {
     "name": "stdout",
     "output_type": "stream",
     "text": [
      "Entrainement: 540 lignes,\n",
      "Test: 181 lignes.\n",
      "\n"
     ]
    }
   ],
   "source": [
    "X_train, X_test, Y_star_train, Y_star_test = train_test_split(X, Y_star, test_size=0.25, random_state=42)\n",
    "\n",
    "print(\"Entrainement: {} lignes,\\nTest: {} lignes.\\n\".format(X_train.shape[0],\n",
    "                                                            X_test.shape[0]))"
   ]
  },
  {
   "cell_type": "code",
   "execution_count": 89,
   "id": "3a9a743b",
   "metadata": {},
   "outputs": [],
   "source": [
    "# transformation des variables\n",
    "X_train = preprocessor.fit_transform(X_train)\n",
    "X_test = preprocessor.transform(X_test)"
   ]
  },
  {
   "cell_type": "code",
   "execution_count": 90,
   "id": "99aa2f58",
   "metadata": {},
   "outputs": [
    {
     "data": {
      "text/html": [
       "<style>#sk-container-id-8 {color: black;background-color: white;}#sk-container-id-8 pre{padding: 0;}#sk-container-id-8 div.sk-toggleable {background-color: white;}#sk-container-id-8 label.sk-toggleable__label {cursor: pointer;display: block;width: 100%;margin-bottom: 0;padding: 0.3em;box-sizing: border-box;text-align: center;}#sk-container-id-8 label.sk-toggleable__label-arrow:before {content: \"▸\";float: left;margin-right: 0.25em;color: #696969;}#sk-container-id-8 label.sk-toggleable__label-arrow:hover:before {color: black;}#sk-container-id-8 div.sk-estimator:hover label.sk-toggleable__label-arrow:before {color: black;}#sk-container-id-8 div.sk-toggleable__content {max-height: 0;max-width: 0;overflow: hidden;text-align: left;background-color: #f0f8ff;}#sk-container-id-8 div.sk-toggleable__content pre {margin: 0.2em;color: black;border-radius: 0.25em;background-color: #f0f8ff;}#sk-container-id-8 input.sk-toggleable__control:checked~div.sk-toggleable__content {max-height: 200px;max-width: 100%;overflow: auto;}#sk-container-id-8 input.sk-toggleable__control:checked~label.sk-toggleable__label-arrow:before {content: \"▾\";}#sk-container-id-8 div.sk-estimator input.sk-toggleable__control:checked~label.sk-toggleable__label {background-color: #d4ebff;}#sk-container-id-8 div.sk-label input.sk-toggleable__control:checked~label.sk-toggleable__label {background-color: #d4ebff;}#sk-container-id-8 input.sk-hidden--visually {border: 0;clip: rect(1px 1px 1px 1px);clip: rect(1px, 1px, 1px, 1px);height: 1px;margin: -1px;overflow: hidden;padding: 0;position: absolute;width: 1px;}#sk-container-id-8 div.sk-estimator {font-family: monospace;background-color: #f0f8ff;border: 1px dotted black;border-radius: 0.25em;box-sizing: border-box;margin-bottom: 0.5em;}#sk-container-id-8 div.sk-estimator:hover {background-color: #d4ebff;}#sk-container-id-8 div.sk-parallel-item::after {content: \"\";width: 100%;border-bottom: 1px solid gray;flex-grow: 1;}#sk-container-id-8 div.sk-label:hover label.sk-toggleable__label {background-color: #d4ebff;}#sk-container-id-8 div.sk-serial::before {content: \"\";position: absolute;border-left: 1px solid gray;box-sizing: border-box;top: 0;bottom: 0;left: 50%;z-index: 0;}#sk-container-id-8 div.sk-serial {display: flex;flex-direction: column;align-items: center;background-color: white;padding-right: 0.2em;padding-left: 0.2em;position: relative;}#sk-container-id-8 div.sk-item {position: relative;z-index: 1;}#sk-container-id-8 div.sk-parallel {display: flex;align-items: stretch;justify-content: center;background-color: white;position: relative;}#sk-container-id-8 div.sk-item::before, #sk-container-id-8 div.sk-parallel-item::before {content: \"\";position: absolute;border-left: 1px solid gray;box-sizing: border-box;top: 0;bottom: 0;left: 50%;z-index: -1;}#sk-container-id-8 div.sk-parallel-item {display: flex;flex-direction: column;z-index: 1;position: relative;background-color: white;}#sk-container-id-8 div.sk-parallel-item:first-child::after {align-self: flex-end;width: 50%;}#sk-container-id-8 div.sk-parallel-item:last-child::after {align-self: flex-start;width: 50%;}#sk-container-id-8 div.sk-parallel-item:only-child::after {width: 0;}#sk-container-id-8 div.sk-dashed-wrapped {border: 1px dashed gray;margin: 0 0.4em 0.5em 0.4em;box-sizing: border-box;padding-bottom: 0.4em;background-color: white;}#sk-container-id-8 div.sk-label label {font-family: monospace;font-weight: bold;display: inline-block;line-height: 1.2em;}#sk-container-id-8 div.sk-label-container {text-align: center;}#sk-container-id-8 div.sk-container {/* jupyter's `normalize.less` sets `[hidden] { display: none; }` but bootstrap.min.css set `[hidden] { display: none !important; }` so we also need the `!important` here to be able to override the default hidden behavior on the sphinx rendered scikit-learn.org. See: https://github.com/scikit-learn/scikit-learn/issues/21755 */display: inline-block !important;position: relative;}#sk-container-id-8 div.sk-text-repr-fallback {display: none;}</style><div id=\"sk-container-id-8\" class=\"sk-top-container\"><div class=\"sk-text-repr-fallback\"><pre>GradientBoostingRegressor(learning_rate=0.2, max_depth=6, max_leaf_nodes=5)</pre><b>In a Jupyter environment, please rerun this cell to show the HTML representation or trust the notebook. <br />On GitHub, the HTML representation is unable to render, please try loading this page with nbviewer.org.</b></div><div class=\"sk-container\" hidden><div class=\"sk-item\"><div class=\"sk-estimator sk-toggleable\"><input class=\"sk-toggleable__control sk-hidden--visually\" id=\"sk-estimator-id-12\" type=\"checkbox\" checked><label for=\"sk-estimator-id-12\" class=\"sk-toggleable__label sk-toggleable__label-arrow\">GradientBoostingRegressor</label><div class=\"sk-toggleable__content\"><pre>GradientBoostingRegressor(learning_rate=0.2, max_depth=6, max_leaf_nodes=5)</pre></div></div></div></div></div>"
      ],
      "text/plain": [
       "GradientBoostingRegressor(learning_rate=0.2, max_depth=6, max_leaf_nodes=5)"
      ]
     },
     "execution_count": 90,
     "metadata": {},
     "output_type": "execute_result"
    }
   ],
   "source": [
    "model_selectionne.fit(X_train,Y_star_train)"
   ]
  },
  {
   "cell_type": "code",
   "execution_count": 91,
   "id": "86b71fa9",
   "metadata": {},
   "outputs": [
    {
     "name": "stdout",
     "output_type": "stream",
     "text": [
      "MAE:  0.29396\n",
      "MSE:  0.18344\n",
      "RMSE:  0.4282990519386477\n",
      "MAPE:  0.01871\n",
      "R²:  0.8283\n"
     ]
    }
   ],
   "source": [
    "Y_star_pred= model_selectionne.predict(X_test)\n",
    "reg_met(np.array(Y_star_test), Y_star_pred)"
   ]
  },
  {
   "cell_type": "code",
   "execution_count": 92,
   "id": "470cdfa3",
   "metadata": {},
   "outputs": [
    {
     "data": {
      "text/plain": [
       "Text(0, 0.5, 'Les valeurs estimées')"
      ]
     },
     "execution_count": 92,
     "metadata": {},
     "output_type": "execute_result"
    },
    {
     "data": {
      "image/png": "[encoded data removed]",
      "text/plain": [
       "<Figure size 576x576 with 1 Axes>"
      ]
     },
     "metadata": {
      "needs_background": "light"
     },
     "output_type": "display_data"
    }
   ],
   "source": [
    "plt.figure(figsize=(8,8))\n",
    "sns.scatterplot(np.exp(Y_star_test[\"SiteEnergyUseWN(kBtu)_log\"]), np.exp(Y_star_pred), color='magenta')\n",
    "plt.title('Comparaison des SiteEnergyUseWN avec Energystar prédites avec l\\'algorithme Gradient Boosting versus les émissions réelles',y=1.05)\n",
    "plt.xlabel('Valeurs de test')\n",
    "plt.ylabel('Les valeurs estimées')"
   ]
  },
  {
   "cell_type": "code",
   "execution_count": null,
   "id": "46a63202",
   "metadata": {},
   "outputs": [],
   "source": []
  },
  {
   "cell_type": "code",
   "execution_count": null,
   "id": "f38816b1",
   "metadata": {},
   "outputs": [],
   "source": []
  }
 ],
 "metadata": {
  "kernelspec": {
   "display_name": "Python 3",
   "language": "python",
   "name": "python3"
  },
  "language_info": {
   "codemirror_mode": {
    "name": "ipython",
    "version": 3
   },
   "file_extension": ".py",
   "mimetype": "text/x-python",
   "name": "python",
   "nbconvert_exporter": "python",
   "pygments_lexer": "ipython3",
   "version": "3.8.5"
  }
 },
 "nbformat": 4,
 "nbformat_minor": 5
}
